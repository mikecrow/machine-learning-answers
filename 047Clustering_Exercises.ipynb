{
 "cells": [
  {
   "cell_type": "code",
   "execution_count": null,
   "metadata": {},
   "outputs": [],
   "source": []
  },
  {
   "cell_type": "markdown",
   "metadata": {},
   "source": [
    "# Exercises\n",
    "\n",
    "We have prepared five exercises in this chapter:\n",
    "\n",
    "1. Modify the HCM code to work for three groups. This exercise can be divded into four tasks: \n",
    "    - modify the parameters,\n",
    "    - modify the calculate_u function,\n",
    "    - execute the clustering,\n",
    "    - plot the results.\n",
    "2. For density clustering, plot the feature space with all element marked with different color, depending on the cluster that it's assigned to. You should do the following tasks:\n",
    "    - fill the get_color method,\n",
    "    - fill the plot code.\n",
    "3. Build a method that plot baed on dendrograms_history and pydot, a dendrogram for the divisive clustering method. You should base on agglomerative method, but keep in mind that it works top-down instead of bottom-up. This exercise need just one function to be implemented:\n",
    "    - show_tree_divisive. \n",
    "    You should loop over the dendrogram_history variable and loop over childs.\n",
    "4. Implement the $s_{2}$ metric   \n",
    "5. Draw the borders between clusters in the output image (for 5.0 grade)"
   ]
  },
  {
   "cell_type": "markdown",
   "metadata": {},
   "source": [
    "## Libraries\n",
    "\n",
    "To solve the exercises, we need the following libraries to load in the first place.\n"
   ]
  },
  {
   "cell_type": "code",
   "execution_count": 101,
   "metadata": {},
   "outputs": [],
   "source": [
    "import numpy\n",
    "import random\n",
    "import numpy as np\n",
    "import pandas as pd\n",
    "from math import sqrt\n",
    "\n",
    "\n",
    "import matplotlib.image as img\n",
    "from PIL import Image\n",
    "\n",
    "from matplotlib import pyplot as plt\n",
    "from mpl_toolkits.mplot3d import Axes3D\n",
    "\n",
    "from IPython.display import Image as imd"
   ]
  },
  {
   "cell_type": "markdown",
   "metadata": {},
   "source": [
    "## Exercise 1: Modify the HCM code to work for three groups\n",
    "\n",
    "The obvious part is the variable ```groups```, but the most changes needs to be done here:"
   ]
  },
  {
   "cell_type": "code",
   "execution_count": 24,
   "metadata": {},
   "outputs": [],
   "source": [
    "%store -r data_set\n",
    "\n",
    "### change here:\n",
    "groups = 3\n",
    "\n",
    "error_margin = 0.01\n",
    "m=2\n",
    "assignation=np.zeros((len(data_set),groups))\n",
    "\n",
    "centers = np.array([[0.01229673, 0.25183492],\n",
    "       [0.3689626 , 0.61904127],\n",
    "       [0.95732769, 0.45059586]])\n",
    "\n",
    "centers = np.array([[0.01229673, 0.25183492],\n",
    "       [0.3689626 , 0.61904127],\n",
    "       [0.95732769, 0.45059586]])\n",
    "\n",
    "def calculate_distance(x,v):\n",
    "    return sqrt((x[0]-v[0])**2+(x[1]-v[1])**2)\n",
    "\n",
    "def calculate_new_centers(u):\n",
    "    new_centers=[]\n",
    "    for c in range(groups):\n",
    "        u_x_vector=np.zeros(2)\n",
    "        u_scalar=0.0\n",
    "        for i in range(len(data_set)):\n",
    "            u_scalar = u_scalar+(u[i][c]**m)\n",
    "            u_x_vector=np.add(u_x_vector,np.multiply(u[i][c]**m,data_set[i]))\n",
    "        new_centers.append(np.divide(u_x_vector,u_scalar))\n",
    "    return new_centers\n",
    "\n",
    "def calculate_differences(new_assignation, assignation):     \n",
    "    return np.sum(np.abs(np.subtract(assignation,new_assignation)))\n",
    "\n",
    "def cluster_hcm(assignation,centers):\n",
    "    difference_limit_not_achieved=True\n",
    "    new_centers = centers\n",
    "    iter=0\n",
    "    while difference_limit_not_achieved:\n",
    "        new_assignation=[]\n",
    "        for i in range(len(data_set)):\n",
    "            new_assignation.append(calculate_u_three(data_set[i]))\n",
    "        new_centers = calculate_new_centers(new_assignation)\n",
    "        if iter>0:\n",
    "            if calculate_differences(new_assignation, assignation) < error_margin:\n",
    "                difference_limit_not_achieved=False\n",
    "        assignation=new_assignation\n",
    "        iter=iter+1\n",
    "    return new_assignation, new_centers"
   ]
  },
  {
   "cell_type": "markdown",
   "metadata": {},
   "source": [
    "### Modify the ``calculate_u`` function\n",
    "\n",
    "Fill the gap below to make the function working for more groups than two. The goal here is to calculate the distance between ``x`` and the center of a given group and append the value to ``minimal_distance``."
   ]
  },
  {
   "cell_type": "code",
   "execution_count": 25,
   "metadata": {},
   "outputs": [],
   "source": [
    "def calculate_u_three(x):\n",
    "    u_array = np.zeros(groups)\n",
    "    minimal_distance = []\n",
    "    for group in range(groups):\n",
    "        minimal_distance.append(calculate_distance(x,centers[group]))       \n",
    "    min_group_id = np.argmin(minimal_distance)\n",
    "    u_array[min_group_id] = 1 \n",
    "    return u_array"
   ]
  },
  {
   "cell_type": "markdown",
   "metadata": {},
   "source": [
    "### Execute the clustering\n",
    "\n",
    "As in the previous example we need to cluster it."
   ]
  },
  {
   "cell_type": "code",
   "execution_count": 26,
   "metadata": {},
   "outputs": [
    {
     "data": {
      "text/html": [
       "<div>\n",
       "<style scoped>\n",
       "    .dataframe tbody tr th:only-of-type {\n",
       "        vertical-align: middle;\n",
       "    }\n",
       "\n",
       "    .dataframe tbody tr th {\n",
       "        vertical-align: top;\n",
       "    }\n",
       "\n",
       "    .dataframe thead th {\n",
       "        text-align: right;\n",
       "    }\n",
       "</style>\n",
       "<table border=\"1\" class=\"dataframe\">\n",
       "  <thead>\n",
       "    <tr style=\"text-align: right;\">\n",
       "      <th></th>\n",
       "      <th>0</th>\n",
       "      <th>1</th>\n",
       "    </tr>\n",
       "  </thead>\n",
       "  <tbody>\n",
       "    <tr>\n",
       "      <th>0</th>\n",
       "      <td>0.078585</td>\n",
       "      <td>0.178323</td>\n",
       "    </tr>\n",
       "    <tr>\n",
       "      <th>1</th>\n",
       "      <td>0.496071</td>\n",
       "      <td>0.692516</td>\n",
       "    </tr>\n",
       "    <tr>\n",
       "      <th>2</th>\n",
       "      <td>0.958743</td>\n",
       "      <td>0.955892</td>\n",
       "    </tr>\n",
       "  </tbody>\n",
       "</table>\n",
       "</div>"
      ],
      "text/plain": [
       "          0         1\n",
       "0  0.078585  0.178323\n",
       "1  0.496071  0.692516\n",
       "2  0.958743  0.955892"
      ]
     },
     "execution_count": 26,
     "metadata": {},
     "output_type": "execute_result"
    }
   ],
   "source": [
    "new_assignation_hcm3, new_centers_hcm3 = cluster_hcm(assignation, centers)\n",
    "pd.DataFrame(new_centers_hcm3)"
   ]
  },
  {
   "cell_type": "markdown",
   "metadata": {},
   "source": [
    "### Plot the results"
   ]
  },
  {
   "cell_type": "code",
   "execution_count": 27,
   "metadata": {},
   "outputs": [
    {
     "data": {
      "image/png": "[encoded data removed]",
      "text/plain": [
       "<Figure size 432x288 with 1 Axes>"
      ]
     },
     "metadata": {
      "needs_background": "light"
     },
     "output_type": "display_data"
    }
   ],
   "source": [
    "red = data_set[np.where(np.array(new_assignation_hcm3)[:,0]==1)]\n",
    "blue = data_set[np.where(np.array(new_assignation_hcm3)[:,1]==1)]\n",
    "green = data_set[np.where(np.array(new_assignation_hcm3)[:,2]==1)]\n",
    "\n",
    "fig, ax = plt.subplots()\n",
    "\n",
    "ax.scatter(blue[:,0],blue[:,1],c='blue')\n",
    "ax.scatter(red[:,0],red[:,1],c='red')\n",
    "ax.scatter(green[:,0],green[:,1],c='green')\n",
    "ax.scatter(np.array(new_centers_hcm3)[:,0],np.array(new_centers_hcm3)[:,1],c='black')\n",
    "ax.set(xlabel='Seats count', ylabel='Distance range (km)',\n",
    "       title='Aircrafts (clusters)')\n",
    "ax.grid()\n",
    "plt.show()"
   ]
  },
  {
   "cell_type": "markdown",
   "metadata": {},
   "source": [
    "## Exercise 2: Plot the density clusters\n",
    "\n",
    "Use the code below to plot the results. You can play with the max_distance variable to get more or less groups."
   ]
  },
  {
   "cell_type": "code",
   "execution_count": 28,
   "metadata": {},
   "outputs": [],
   "source": [
    "%store -r new_assignation_density\n",
    "%store -r data_set"
   ]
  },
  {
   "cell_type": "markdown",
   "metadata": {},
   "source": [
    "### Fill the ``get_group_objects`` method\n",
    "\n",
    "Only one line needs to be updated. The ``get_group_objects`` function should return the objects of a given group."
   ]
  },
  {
   "cell_type": "code",
   "execution_count": 50,
   "metadata": {},
   "outputs": [],
   "source": [
    "colors = ['red','blue','green','orange','black','yellow']\n",
    "    \n",
    "def get_group_objects(color_id):\n",
    "    return data_set[np.where(np.array(assigned_groups)==color_id)] # change here"
   ]
  },
  {
   "cell_type": "markdown",
   "metadata": {},
   "source": [
    "### Fill the plot code\n",
    "\n",
    "If done properly the code below should return a plot of two clusters and the noise."
   ]
  },
  {
   "cell_type": "code",
   "execution_count": 51,
   "metadata": {},
   "outputs": [
    {
     "data": {
      "image/png": "[encoded data removed]",
      "text/plain": [
       "<Figure size 432x288 with 1 Axes>"
      ]
     },
     "metadata": {
      "needs_background": "light"
     },
     "output_type": "display_data"
    }
   ],
   "source": [
    "colors = ['red','blue','green','orange','black','yellow']\n",
    "\n",
    "fig, ax = plt.subplots()\n",
    "\n",
    "assigned_groups = new_assignation_density\n",
    "for group in np.unique(assigned_groups):\n",
    "    small_set = get_group_objects(group) \n",
    "    ax.scatter(small_set[:,0],small_set[:,1],c=colors.pop(0))\n",
    "    for circle in small_set:\n",
    "        circle1 = plt.Circle((circle[0],circle[1]), 0.25, color='green', fill=False)        \n",
    "        ax.add_artist(circle1)\n",
    "    \n",
    "ax.set(xlabel='Seats count', ylabel='Distance range (km)',title='Aircrafts (clusters)')\n",
    "ax.grid()\n",
    "plt.show()"
   ]
  },
  {
   "cell_type": "markdown",
   "metadata": {},
   "source": [
    "## Exercise 3: Build a dendrogram using dendrograms_history and pydot (done)\n",
    "\n",
    "In this exercise we gonna use the variable dendrograms_history and pydot. Below we restore the variable and initialize the dendrogram graph."
   ]
  },
  {
   "cell_type": "code",
   "execution_count": null,
   "metadata": {},
   "outputs": [],
   "source": [
    "%store -r dendrogram_hist_diana"
   ]
  },
  {
   "cell_type": "markdown",
   "metadata": {},
   "source": [
    "### Fill ``show_tree_divisive`` function\n",
    "\n",
    "The function show_tree_divisive goes through each child node and build and edge between."
   ]
  },
  {
   "cell_type": "code",
   "execution_count": null,
   "metadata": {},
   "outputs": [],
   "source": [
    "def show_tree_divisive():\n",
    "    for item in dendrogram_hist_diana:\n",
    "        for child in item[0][\"childs\"]:\n",
    "            # fill the gap (2 lines)\n",
    "            #\n",
    "    tree.write('tree_diana.png',format='png')\n",
    "    \n",
    "show_tree_divisive()"
   ]
  },
  {
   "cell_type": "markdown",
   "metadata": {},
   "source": [
    "Take a look if you did it properly:"
   ]
  },
  {
   "cell_type": "code",
   "execution_count": null,
   "metadata": {},
   "outputs": [],
   "source": [
    "from IPython.display import Image\n",
    "Image(filename='tree_diana.png') "
   ]
  },
  {
   "cell_type": "markdown",
   "metadata": {},
   "source": [
    "## Exercise 4: Implement the $s_{2}$ metric\n",
    "\n",
    "The $s_{2}$ metric gives a better understanding of the distances between centers.\n",
    "\n",
    "\\begin{equation}\n",
    " s_{2}(c_{i},c_{j})=d(c_{i},c_{j}).\n",
    "\\end{equation}\n",
    "\n",
    "Let's restore the centers from HCM grouped by two and initialize the values for three groups as below."
   ]
  },
  {
   "cell_type": "code",
   "execution_count": 52,
   "metadata": {},
   "outputs": [],
   "source": [
    "%store -r new_centers_hcm\n",
    "\n",
    "new_centers_hcm = np.array(new_centers_hcm)\n",
    "new_centers_hcm3 = np.array([[0.42239686, 0.38503185],[0.07858546, 0.17832272],[0.82907662, 0.97059448]])"
   ]
  },
  {
   "cell_type": "markdown",
   "metadata": {},
   "source": [
    "Measure the distance between each center."
   ]
  },
  {
   "cell_type": "code",
   "execution_count": 56,
   "metadata": {},
   "outputs": [],
   "source": [
    "def calculate_s_2(centers):\n",
    "    s2 = []\n",
    "    for center_1 in range(len(centers)):\n",
    "        for center_2 in range(len(centers)):\n",
    "            # fill the code here (3 lines)\n",
    "            if center_1>=center_2:\n",
    "                continue\n",
    "            s2.append(calculate_distance(centers[center_1], centers[center_2]))\n",
    "            \n",
    "            \n",
    "    return s2"
   ]
  },
  {
   "cell_type": "markdown",
   "metadata": {},
   "source": [
    "## Exercise 5: Modify the output image with borders between clusters\n",
    "\n",
    "We use the ``Segmentation`` class as in previous example."
   ]
  },
  {
   "cell_type": "code",
   "execution_count": 108,
   "metadata": {},
   "outputs": [],
   "source": [
    "class Segmentation:\n",
    "\n",
    "    def __init__(self, feature_matrix, groups):\n",
    "        self.__data_set = feature_matrix\n",
    "        self.__groups = groups\n",
    "        self.__space=[[0, 255], [0, 255], [0, 255]]\n",
    "        self.__error_margin = 0.5\n",
    "        self.assignation = np.zeros((len(self.__data_set), self.__groups))\n",
    "        self.centers = []\n",
    "        self.select_centers()\n",
    "\n",
    "    def select_centers(self):\n",
    "        if len(self.centers) == 0:\n",
    "            iter=0\n",
    "            while iter<self.__groups:\n",
    "                self.centers.append(((random.randrange(0, 255)*1.0/255),\n",
    "                                     (random.randrange(0, 255)*1.0/255),\n",
    "                                     (random.randrange(0, 255)*1.0/255)))\n",
    "                iter=iter+1\n",
    "\n",
    "    def calculate_distance(self, x, v):\n",
    "        return sqrt((x[0]-v[0])**2+(x[1]-v[1])**2+(x[2]-v[2])**2)\n",
    "\n",
    "    def calculate_u(self, x, i):\n",
    "        smallest_distance = float(self.calculate_distance(x, self.centers[0]))\n",
    "        smallest_id = 0\n",
    "        for i in range(1, self.__groups):\n",
    "            distance = self.calculate_distance(x, self.centers[i])\n",
    "            if distance < smallest_distance:\n",
    "                smallest_id = i\n",
    "                smallest_distance = distance\n",
    "        distance = np.zeros(self.__groups)\n",
    "        distance[smallest_id]=1\n",
    "        return distance\n",
    "\n",
    "    def calculate_new_centers(self, u):\n",
    "        new_centers=[]\n",
    "        for c in range(self.__groups):\n",
    "            u_x_vector = np.zeros(len(self.centers[0]))\n",
    "            u_scalar = 0\n",
    "            for i in range(len(u)):\n",
    "                u_scalar = u_scalar + u[i][c]\n",
    "                u_x_vector = np.add(u_x_vector, np.multiply(u[i][c], self.__data_set[i]))\n",
    "            new_centers.append(np.divide(u_x_vector,u_scalar))\n",
    "        print(new_centers)\n",
    "        self.centers = new_centers\n",
    "\n",
    "    def calculate_differences(self,new_assignation):\n",
    "        diff=0\n",
    "        for i in range(len(self.assignation)):\n",
    "            for j in range(self.__groups):\n",
    "                diff = diff + abs(float(new_assignation[i][j]) - float(self.assignation[i][j]))\n",
    "        return diff\n",
    "\n",
    "    def do_segmentation(self):\n",
    "        difference_limit_not_achieved = True\n",
    "        iter = 0\n",
    "        while difference_limit_not_achieved:\n",
    "            new_assignation = []\n",
    "            for i in range(len(self.__data_set)):\n",
    "                new_assignation.append(self.calculate_u(self.__data_set[i], iter))\n",
    "            self.calculate_new_centers(new_assignation)\n",
    "\n",
    "            if iter > 0:\n",
    "                if self.calculate_differences(new_assignation) < self.__error_margin:\n",
    "                    difference_limit_not_achieved=False\n",
    "            self.assignation = new_assignation\n",
    "            iter = iter + 1\n",
    "\n",
    "    def get_results(self):\n",
    "        return self.centers, self.assignation"
   ]
  },
  {
   "cell_type": "markdown",
   "metadata": {},
   "source": [
    "### Change ``save_image`` method \n",
    "\n",
    "Add an if statement in the code below. It should consider the change of ``current_pixel`` variable. Please keep in mind that there should be three states considered."
   ]
  },
  {
   "cell_type": "code",
   "execution_count": 118,
   "metadata": {},
   "outputs": [],
   "source": [
    "class ImageConversion:\n",
    "\n",
    "    def get_image_from_url(self, img_url):\n",
    "        image = open(img_url,'rb')\n",
    "        return img.imread(image)\n",
    "\n",
    "    def get_unique_colours(self, image_matrix):\n",
    "        feature_matrix = []\n",
    "        for i in range(len(image_matrix)):\n",
    "            for j in range(len(image_matrix[0])):\n",
    "                feature_matrix.append(image_matrix[i, j])\n",
    "        feature_matrix_np = np.array(feature_matrix)\n",
    "        uniques, index = np.unique([str(i) for i in feature_matrix_np], return_index=True)\n",
    "        return feature_matrix_np[index], feature_matrix\n",
    "\n",
    "    def save_image(self, size, pixel_matrix, unique_matrix, assignation_matrix, colours, output):\n",
    "        image_out = Image.new(\"RGB\", size)\n",
    "        pixels = []\n",
    "        current_pixel = None ## added\n",
    "        for i in range(len(pixel_matrix)):\n",
    "            pixel_list = pixel_matrix[i].tolist()\n",
    "            for j in range(len(unique_matrix)):\n",
    "                if (pixel_list == unique_matrix[j].tolist()):\n",
    "                    for k in range(len(colours)):\n",
    "                        if assignation_matrix[j][k] == 1:\n",
    "                            segmented_colours = [int(i) for i in (colours[k] * 255)]\n",
    "                            # fill here (about 6-7 lines)\n",
    "                            pixel = tuple(segmented_colours)\n",
    "                            if not np.array_equal(pixel, current_pixel):\n",
    "                                pixels.append((0,0,0))\n",
    "                                current_pixel = pixel\n",
    "                            else:\n",
    "                                pixels.append(pixel)\n",
    "                            \n",
    "        image_out.putdata(pixels)\n",
    "        image_out.save(output)\n",
    "\n",
    "    def get_results(self):\n",
    "        return self.centers, self.assignation        "
   ]
  },
  {
   "cell_type": "markdown",
   "metadata": {},
   "source": [
    "Execute segmentation without any changes:"
   ]
  },
  {
   "cell_type": "code",
   "execution_count": 129,
   "metadata": {},
   "outputs": [
    {
     "name": "stdout",
     "output_type": "stream",
     "text": [
      "[array([0.36508453, 0.55267074, 0.73698446]), array([0.82524941, 0.70835915, 0.18885449]), array([0.91924474, 0.93718228, 0.96390705])]\n",
      "[array([0.30415317, 0.5056971 , 0.68991819]), array([0.87113726, 0.73003923, 0.15733334]), array([0.85356169, 0.89108961, 0.93914123])]\n",
      "[array([0.27859897, 0.48751468, 0.67635329]), array([0.87113726, 0.73003923, 0.15733334]), array([0.82542411, 0.87168981, 0.92897114])]\n",
      "[array([0.26867951, 0.48068716, 0.67124763]), array([0.87113726, 0.73003923, 0.15733334]), array([0.81395742, 0.86346195, 0.92430951])]\n",
      "[array([0.2662465 , 0.47902662, 0.66999301]), array([0.87113726, 0.73003923, 0.15733334]), array([0.8110555 , 0.86136839, 0.92311223])]\n",
      "[array([0.2662465 , 0.47902662, 0.66999301]), array([0.87113726, 0.73003923, 0.15733334]), array([0.8110555 , 0.86136839, 0.92311223])]\n"
     ]
    }
   ],
   "source": [
    "image_to_segment = \"./../images/logo_krakow.png\"\n",
    "image_converter = ImageConversion()\n",
    "image_data = image_converter.get_image_from_url(image_to_segment)\n",
    "unique_image_data, image_data_list = image_converter.get_unique_colours(image_data)\n",
    "\n",
    "groups = 3\n",
    "\n",
    "if image_data.shape[2] > 3:\n",
    "    image_data = image_data[:,:,[0,1,2]]\n",
    "    unique_image_data = unique_image_data[:,[0,1,2]]\n",
    "    image_data_list = numpy.array(image_data_list)[:,[0,1,2]]\n",
    "\n",
    "segmentation = Segmentation(unique_image_data, groups)\n",
    "segmentation.do_segmentation()\n",
    "centers, assignation_matrix = segmentation.get_results()\n",
    "\n",
    "image_size = (232, 258)\n",
    "image_converter.save_image(image_size, image_data_list, unique_image_data, assignation_matrix, centers, \"./../images/segmented2.png\")\n",
    "\n",
    "# README\n",
    "\n",
    "# raz na jakiś czas zdarza się, że Pana program dzieli przez 0 więc gdyby tak się stało przy sprawdzaniu trzeba puścić ponownie \n",
    "# nie próbowałem tego naprawiać może tak już musi być, ale ten błąd jest nie związany z tym co ja modyfikowałem tylko w liczeniu centroidów\n",
    "\n",
    "# w zadaniu domowym brakuje tego ifa który sprawdza czy zgadza się shape, bez tego program wyrzuca błąd o niepoprawnym mnożeniu macierzy\n",
    "# przekopiowałem to z poprzedniego notebooka i działa\n",
    "\n",
    "# zauważyłem też, że ma Pan kolizję nazw w importach ponieważ obie biblioteki mają nazwę \"Image\", zmieniłem te drugą na imd, \n",
    "# nie dostał Pan tego błedu wcześniej w 046Clustering_Segmentation ponieważ drugi import zrobił Pan po wykonaniu kodu, który korzystał z pierwszego\n",
    "# tutaj oba importy są na początku notebooka\n",
    "\n",
    "# ścieżki do plików są niepoprawne jeśli mamy folder umieszczony w taki sam sposób jak w przykładzie, \n",
    "# zmieniłem je i storzyłem nowy plik segmented2.png dla porównania z pierwszym\n",
    "\n",
    "# jedna z fukcji z Segmentation była zduplikowana do klasy ImageConversion, usunąłem ją\n",
    "\n",
    "# mam nadzieję, że mnie Pan nie znielubi, ale proszę spradzić czy to co napisałem się zgadza i mam nadzieję, że może trochę Panu pomogłem :)"
   ]
  },
  {
   "cell_type": "markdown",
   "metadata": {},
   "source": [
    "The image should have black broders between one and the other segment."
   ]
  },
  {
   "cell_type": "code",
   "execution_count": 124,
   "metadata": {},
   "outputs": [
    {
     "data": {
      "image/png": "[encoded data removed]",
      "text/plain": [
       "<IPython.core.display.Image object>"
      ]
     },
     "execution_count": 124,
     "metadata": {},
     "output_type": "execute_result"
    }
   ],
   "source": [
    "imd(\"./../images/segmented2.png\")"
   ]
  },
  {
   "cell_type": "code",
   "execution_count": null,
   "metadata": {},
   "outputs": [],
   "source": []
  }
 ],
 "metadata": {
  "kernelspec": {
   "display_name": "Python 3",
   "language": "python",
   "name": "python3"
  },
  "language_info": {
   "codemirror_mode": {
    "name": "ipython",
    "version": 3
   },
   "file_extension": ".py",
   "mimetype": "text/x-python",
   "name": "python",
   "nbconvert_exporter": "python",
   "pygments_lexer": "ipython3",
   "version": "3.8.5"
  }
 },
 "nbformat": 4,
 "nbformat_minor": 4
}
