{
 "cells": [
  {
   "cell_type": "markdown",
   "metadata": {},
   "source": [
    "# NLP Exercises\n",
    "\n",
    "We have five exercises in this section. The exercises are:\n",
    "1. Build your own tokenizer, where you need to implement two functions to implement a tokenizer based on regular expression.\n",
    "2. Get tags from Trump speech.\n",
    "3. Get the nouns in the last 10 sentences from Trump's speech and find the nouns divided by sentencens. Use SpaCy.\n",
    "4. Build your own Bag Of Words implementation using tokenizer created before.\n",
    "5. Build a 5-gram model and clean up the results."
   ]
  },
  {
   "cell_type": "markdown",
   "metadata": {},
   "source": [
    "## Exercise 1. Build your own tokenizer\n",
    "\n",
    "Build two different tokenizers:\n",
    "- ``tokenize_sentence``: function tokenizing text into sentences,\n",
    "- ``tokenize_word``: function tokenizing text into words."
   ]
  },
  {
   "cell_type": "code",
   "execution_count": 5,
   "metadata": {},
   "outputs": [
    {
     "name": "stdout",
     "output_type": "stream",
     "text": [
      "Tokenized sentences:\n",
      "['Here we go again.', \"I was supposed to add this text later.Well, it's 10.p.m.\", \"here, and I'm actually having fun making this course.\", ':oI hope you are getting along fine with this presentation, I really did try.And one last sentence, just so you can test you tokenizers better.']\n",
      "Tokenized words:\n",
      "['Here', 'we', 'go', 'again.', 'I', 'was', 'supposed', 'to', 'add', 'this', 'text', 'later.Well,', \"it's\", '10.p.m.', 'here,', 'and', \"I'm\", 'actually', 'having', 'fun', 'making', 'this', 'course.', ':oI', 'hope', 'you', 'are', 'getting', 'along', 'fine', 'with', 'this', 'presentation,', 'I', 'really', 'did', 'try.And', 'one', 'last', 'sentence,', 'just', 'so', 'you', 'can', 'test', 'you', 'tokenizers', 'better.']\n"
     ]
    }
   ],
   "source": [
    "import re\n",
    "from typing import List\n",
    "\n",
    "def tokenize_words(text: str) -> list:\n",
    "    \"\"\"Tokenize text into words using regex.\n",
    "\n",
    "    Parameters\n",
    "    ----------\n",
    "    text: str\n",
    "            Text to be tokenized\n",
    "\n",
    "    Returns\n",
    "    -------\n",
    "    List[str]\n",
    "            List containing words tokenized from text\n",
    "\n",
    "    \"\"\"\n",
    "    pattern = \"\\\\s+\"\n",
    "    words = re.split(pattern, text)\n",
    "    return words\n",
    "\n",
    "def tokenize_sentence(text: str) -> list:\n",
    "    \"\"\"Tokenize text into words using regex.\n",
    "\n",
    "    Parameters\n",
    "    ----------\n",
    "    text: str\n",
    "            Text to be tokenized\n",
    "\n",
    "    Returns\n",
    "    -------\n",
    "    List[str]\n",
    "            List containing words tokenized from text\n",
    "\n",
    "    \"\"\"\n",
    "    pattern = \"(?<=[.!?]) +\"\n",
    "    sentences = re.split(pattern, text)\n",
    "    return sentences\n",
    "\n",
    "text = \"Here we go again. I was supposed to add this text later.\\\n",
    "Well, it's 10.p.m. here, and I'm actually having fun making this course. :o\\\n",
    "I hope you are getting along fine with this presentation, I really did try.\\\n",
    "And one last sentence, just so you can test you tokenizers better.\"\n",
    "\n",
    "print(\"Tokenized sentences:\")\n",
    "print(tokenize_sentence(text))\n",
    "\n",
    "print(\"Tokenized words:\")\n",
    "print(tokenize_words(text))"
   ]
  },
  {
   "cell_type": "markdown",
   "metadata": {},
   "source": [
    "## Exercise 2. Get tags from Trump speech using NLTK\n",
    "\n",
    "You should use the ``trump.txt`` file, read it and find the tags for each word. Use NLTK for it."
   ]
  },
  {
   "cell_type": "code",
   "execution_count": 16,
   "metadata": {},
   "outputs": [
    {
     "name": "stdout",
     "output_type": "stream",
     "text": [
      "['Thank', 'you', 'very', 'much', '.', 'Mr.', 'Speaker', ',', 'Mr.', 'Vice', 'President', ',', 'Members', 'of', 'Congress', ',', 'the', 'First', 'Lady', 'of', 'the', 'United', 'States', ',', 'and', 'citizens', 'of', 'America', ':', 'Tonight', ',', 'as', 'we', 'mark', 'the', 'conclusion', 'of', 'our', 'celebration', 'of', 'Black', 'History', 'Month', ',', 'we', 'are', 'reminded', 'of', 'our', 'Nation', \"'s\", 'path', 'towards', 'civil', 'rights', 'and', 'the', 'work', 'that', 'still', 'remains', 'to', 'be', 'done', '.', 'Recent', 'threats', 'targeting', 'Jewish', 'community', 'centers', 'and', 'vandalism', 'of', 'Jewish', 'cemeteries', ',', 'as', 'well', 'as', 'last', 'week', \"'s\", 'shooting', 'in', 'Kansas', 'City', ',', 'remind', 'us', 'that', 'while', 'we', 'may', 'be', 'a', 'nation', 'divided', 'on', 'policies', ',', 'we', 'are', 'a', 'country', 'that', 'stands', 'united', 'in', 'condemning', 'hate', 'and', 'evil', 'in', 'all', 'of', 'its', 'very', 'ugly', 'forms', '.', 'Each', 'American', 'generation', 'passes', 'the', 'torch', 'of', 'truth', ',', 'liberty', ',', 'and', 'justice', 'in', 'an', 'unbroken', 'chain', ',', 'all', 'the', 'way', 'down', 'to', 'the', 'present', '.', 'That', 'torch', 'is', 'now', 'in', 'our', 'hands', ',', 'and', 'we', 'will', 'use', 'it', 'to', 'light', 'up', 'the', 'world', '.', 'I', 'am', 'here', 'tonight', 'to', 'deliver', 'a', 'message', 'of', 'unity', 'and', 'strength', ',', 'and', 'it', 'is', 'a', 'message', 'deeply', 'delivered', 'from', 'my', 'heart', '.', 'A', 'new', 'chapter', 'of', 'American', 'greatness', 'is', 'now', 'beginning', '.', 'A', 'new', 'national', 'pride', 'is', 'sweeping', 'across', 'our', 'Nation', '.', 'And', 'a', 'new', 'surge', 'of', 'optimism', 'is', 'placing', 'impossible', 'dreams', 'firmly', 'within', 'our', 'grasp', '.', 'What', 'we', 'are', 'witnessing', 'today', 'is', 'the', 'renewal', 'of', 'the', 'American', 'spirit', '.', 'Our', 'allies', 'will', 'find', 'that', 'America', 'is', 'once', 'again', 'ready', 'to', 'lead', '.', 'All', 'the', 'nations', 'of', 'the', 'world—friend', 'or', 'foe—will', 'find', 'that', 'America', 'is', 'strong', ',', 'America', 'is', 'proud', ',', 'and', 'America', 'is', 'free', '.', 'In', '9', 'years', ',', 'the', 'United', 'States', 'will', 'celebrate', 'the', '250th', 'anniversary', 'of', 'our', 'founding', ':', '250', 'years', 'since', 'the', 'day', 'we', 'declared', 'our', 'independence', '.', 'It', 'will', 'be', 'one', 'of', 'the', 'great', 'milestones', 'in', 'the', 'history', 'of', 'the', 'world', '.', 'But', 'what', 'will', 'America', 'look', 'like', 'as', 'we', 'reach', 'our', '250th', 'year', '?', 'What', 'kind', 'of', 'country', 'will', 'we', 'leave', 'for', 'our', 'children', '?', 'I', 'will', 'not', 'allow', 'the', 'mistakes', 'of', 'recent', 'decades', 'past', 'to', 'define', 'the', 'course', 'of', 'our', 'future', '.', 'For', 'too', 'long', ',', 'we', \"'ve\", 'watched', 'our', 'middle', 'class', 'shrink', 'as', 'we', \"'ve\", 'exported', 'our', 'jobs', 'and', 'wealth', 'to', 'foreign', 'countries', '.', 'We', \"'ve\", 'financed', 'and', 'built', 'one', 'global', 'project', 'after', 'another', ',', 'but', 'ignored', 'the', 'fates', 'of', 'our', 'children', 'in', 'the', 'inner', 'cities', 'of', 'Chicago', ',', 'Baltimore', ',', 'Detroit', ',', 'and', 'so', 'many', 'other', 'places', 'throughout', 'our', 'land', '.', 'We', \"'ve\", 'defended', 'the', 'borders', 'of', 'other', 'nations', ',', 'while', 'leaving', 'our', 'own', 'borders', 'wide', 'open', 'for', 'anyone', 'to', 'cross', 'and', 'for', 'drugs', 'to', 'pour', 'in', 'at', 'a', 'now', 'unprecedented', 'rate', '.', 'And', 'we', \"'ve\", 'spent', 'trillions', 'and', 'trillions', 'of', 'dollars', 'overseas', ',', 'while', 'our', 'infrastructure', 'at', 'home', 'has', 'so', 'badly', 'crumbled', '.', 'Then', ',', 'in', '2016', ',', 'the', 'Earth', 'shifted', 'beneath', 'our', 'feet', '.', 'The', 'rebellion', 'started', 'as', 'a', 'quiet', 'protest', ',', 'spoken', 'by', 'families', 'of', 'all', 'colors', 'and', 'creeds', ',', 'families', 'who', 'just', 'wanted', 'a', 'fair', 'shot', 'for', 'their', 'children', 'and', 'a', 'fair', 'hearing', 'for', 'their', 'concerns', '.', 'But', 'then', 'the', 'quiet', 'voices', 'became', 'a', 'loud', 'chorus', ',', 'as', 'thousands', 'of', 'citizens', 'now', 'spoke', 'out', 'together', ',', 'from', 'cities', 'small', 'and', 'large', ',', 'all', 'across', 'our', 'country', '.', 'Finally', ',', 'the', 'chorus', 'became', 'an', 'earthquake', ',', 'and', 'the', 'people', 'turned', 'out', 'by', 'the', 'tens', 'of', 'millions', ',', 'and', 'they', 'were', 'all', 'united', 'by', 'one', 'very', 'simple', ',', 'but', 'crucial', 'demand', ':', 'that', 'America', 'must', 'put', 'its', 'own', 'citizens', 'first', '.', 'Because', 'only', 'then', 'can', 'we', 'truly', 'make', 'America', 'great', 'again', '.', 'Dying', 'industries', 'will', 'come', 'roaring', 'back', 'to', 'life', '.', 'Heroic', 'veterans', 'will', 'get', 'the', 'care', 'they', 'so', 'desperately', 'need', '.', 'Our', 'military', 'will', 'be', 'given', 'the', 'resources', 'its', 'brave', 'warriors', 'so', 'richly', 'deserve', '.', 'Crumbling', 'infrastructure', 'will', 'be', 'replaced', 'with', 'new', 'roads', ',', 'bridges', ',', 'tunnels', ',', 'airports', ',', 'and', 'railways', 'gleaming', 'across', 'our', 'very', ',', 'very', 'beautiful', 'land', '.', 'Our', 'terrible', 'drug', 'epidemic', 'will', 'slow', 'down', 'and', ',', 'ultimately', ',', 'stop', '.', 'And', 'our', 'neglected', 'inner', 'cities', 'will', 'see', 'a', 'rebirth', 'of', 'hope', ',', 'safety', ',', 'and', 'opportunity', '.', 'Above', 'all', 'else', ',', 'we', 'will', 'keep', 'our', 'promises', 'to', 'the', 'American', 'people', '.', '[', 'Applause', ']', 'Thank', 'you', '.', 'It', \"'s\", 'been', 'a', 'little', 'over', 'a', 'month', 'since', 'my', 'Inauguration', ',', 'and', 'I', 'want', 'to', 'take', 'this', 'moment', 'to', 'update', 'the', 'Nation', 'on', 'the', 'progress', 'I', \"'ve\", 'made', 'in', 'keeping', 'those', 'promises', '.', 'Since', 'my', 'election', ',', 'Ford', ',', 'Fiat', 'Chrysler', ',', 'General', 'Motors', ',', 'Sprint', ',', 'Softbank', ',', 'Lockheed', ',', 'Intel', ',', 'Walmart', ',', 'and', 'many', 'others', 'have', 'announced', 'that', 'they', 'will', 'invest', 'billions', 'and', 'billions', 'of', 'dollars', 'in', 'the', 'United', 'States', 'and', 'will', 'create', 'tens', 'of', 'thousands', 'of', 'new', 'American', 'jobs', '.', 'The', 'stock', 'market', 'has', 'gained', 'almost', '$', '3', 'trillion', 'in', 'value', 'since', 'the', 'election', 'on', 'November', '8—a', 'record', '.', 'We', \"'ve\", 'saved', 'taxpayers', 'hundreds', 'of', 'millions', 'of', 'dollars', 'by', 'bringing', 'down', 'the', 'price', 'of', 'fantastic—and', 'it', 'is', 'a', 'fantastic—new', 'F-35', 'jet', 'fighter', ',', 'and', 'we', \"'ll\", 'be', 'saving', 'billions', 'more', 'on', 'contracts', 'all', 'across', 'our', 'Government', '.', 'We', 'have', 'placed', 'a', 'hiring', 'freeze', 'on', 'nonmilitary', 'and', 'nonessential', 'Federal', 'workers', '.', 'We', 'have', 'begun', 'to', 'drain', 'the', 'swamp', 'of', 'government', 'corruption', 'by', 'imposing', 'a', '5-year', 'ban', 'on', 'lobbying', 'by', 'executive', 'branch', 'officials', 'and', 'a', 'lifetime', 'ban—', '[', 'applause', ']', '—thank', 'you', '.', 'Thank', 'you', '.', 'And', 'a', 'lifetime', 'ban', 'on', 'becoming', 'lobbyists', 'for', 'a', 'foreign', 'government', '.', 'We', 'have', 'undertaken', 'a', 'historic', 'effort', 'to', 'massively', 'reduce', 'job-crushing', 'regulations', ',', 'creating', 'a', 'deregulation', 'Task', 'Force', 'inside', 'of', 'every', 'Government', 'agency', '.', 'And', 'we', \"'re\", 'imposing', 'a', 'new', 'rule', 'which', 'mandates', 'that', 'for', 'every', 'one', 'new', 'regulation', ',', 'two', 'old', 'regulations', 'must', 'be', 'eliminated', '.', 'We', \"'re\", 'going', 'to', 'stop', 'the', 'regulations', 'that', 'threaten', 'the', 'future', 'and', 'livelihood', 'of', 'our', 'great', 'coal', 'miners', '.', 'We', 'have', 'cleared', 'the', 'way', 'for', 'the', 'construction', 'of', 'the', 'Keystone', 'and', 'Dakota', 'Access', 'pipelines', ',', 'thereby', 'creating', 'tens', 'of', 'thousands', 'of', 'jobs', '.', 'And', 'I', \"'ve\", 'issued', 'a', 'new', 'directive', 'that', 'new', 'American', 'pipelines', 'be', 'made', 'with', 'American', 'steel', '.', 'We', 'have', 'withdrawn', 'the', 'United', 'States', 'from', 'the', 'job-killing', 'Trans-Pacific', 'Partnership', '.', 'And', 'with', 'the', 'help', 'of', 'Prime', 'Minister', 'Justin', 'Trudeau', ',', 'we', 'have', 'formed', 'a', 'council', 'with', 'our', 'neighbors', 'in', 'Canada', 'to', 'help', 'ensure', 'that', 'women', 'entrepreneurs', 'have', 'access', 'to', 'the', 'networks', ',', 'markets', ',', 'and', 'capital', 'they', 'need', 'to', 'start', 'a', 'business', 'and', 'live', 'out', 'their', 'financial', 'dreams', '.', 'To', 'protect', 'our', 'citizens', ',', 'I', 'have', 'directed', 'the', 'Department', 'of', 'Justice', 'to', 'form', 'a', 'Task', 'Force', 'on', 'Reducing', 'Violent', 'Crime', '.', 'I', 'have', 'further', 'ordered', 'the', 'Departments', 'of', 'Homeland', 'Security', 'and', 'Justice', ',', 'along', 'with', 'the', 'Department', 'of', 'State', 'and', 'the', 'Director', 'of', 'National', 'Intelligence', ',', 'to', 'coordinate', 'an', 'aggressive', 'strategy', 'to', 'dismantle', 'the', 'criminal', 'cartels', 'that', 'have', 'spread', 'all', 'across', 'our', 'Nation', '.', 'We', 'will', 'stop', 'the', 'drugs', 'from', 'pouring', 'into', 'our', 'country', 'and', 'poisoning', 'our', 'youth', ',', 'and', 'we', 'will', 'expand', 'treatment', 'for', 'those', 'who', 'have', 'become', 'so', 'badly', 'addicted', '.', 'At', 'the', 'same', 'time', ',', 'my', 'administration', 'has', 'answered', 'the', 'pleas', 'of', 'the', 'American', 'people', 'for', 'immigration', 'enforcement', 'and', 'border', 'security', '.', 'By', 'finally', 'enforcing', 'our', 'immigration', 'laws', ',', 'we', 'will', 'raise', 'wages', ',', 'help', 'the', 'unemployed', ',', 'save', 'billions', 'and', 'billions', 'of', 'dollars', ',', 'and', 'make', 'our', 'communities', 'safer', 'for', 'everyone', '.', 'We', 'want', 'all', 'Americans', 'to', 'succeed', ',', 'but', 'that', 'ca', \"n't\", 'happen', 'in', 'an', 'environment', 'of', 'lawless', 'chaos', '.', 'We', 'must', 'restore', 'integrity', 'and', 'the', 'rule', 'of', 'law', 'at', 'our', 'borders', '.', 'For', 'that', 'reason', ',', 'we', 'will', 'soon', 'begin', 'the', 'construction', 'of', 'a', 'great', ',', 'great', 'wall', 'along', 'our', 'southern', 'border', '.', 'As', 'we', 'speak', 'tonight', ',', 'we', 'are', 'removing', 'gang', 'members', ',', 'drug', 'dealers', ',', 'and', 'criminals', 'that', 'threaten', 'our', 'communities', 'and', 'prey', 'on', 'our', 'very', 'innocent', 'citizens', '.', 'Bad', 'ones', 'are', 'going', 'out', 'as', 'I', 'speak', ',', 'and', 'as', 'I', \"'ve\", 'promised', 'throughout', 'the', 'campaign', '.', 'To', 'any', 'in', 'Congress', 'who', 'do', 'not', 'believe', 'we', 'should', 'enforce', 'our', 'laws', ',', 'I', 'would', 'ask', 'you', 'this', 'one', 'question', ':', 'What', 'would', 'you', 'say', 'to', 'the', 'American', 'family', 'that', 'loses', 'their', 'jobs', ',', 'their', 'income', ',', 'or', 'their', 'loved', 'one', 'because', 'America', 'refused', 'to', 'uphold', 'its', 'laws', 'and', 'defend', 'its', 'borders', '?', 'Our', 'obligation', 'is', 'to', 'serve', ',', 'protect', ',', 'and', 'defend', 'the', 'citizens', 'of', 'the', 'United', 'States', '.', 'We', 'are', 'also', 'taking', 'strong', 'measures', 'to', 'protect', 'our', 'Nation', 'from', 'radical', 'Islamic', 'terrorism', '.', 'According', 'to', 'data', 'provided', 'by', 'the', 'Department', 'of', 'Justice', ',', 'the', 'vast', 'majority', 'of', 'individuals', 'convicted', 'of', 'terrorism', 'and', 'terrorism-related', 'offenses', 'since', '9/11', 'came', 'here', 'from', 'outside', 'of', 'our', 'country', '.', 'We', 'have', 'seen', 'the', 'attacks', 'at', 'home', ',', 'from', 'Boston', 'to', 'San', 'Bernardino', 'to', 'the', 'Pentagon', ',', 'and', ',', 'yes', ',', 'even', 'the', 'World', 'Trade', 'Center', '.', 'We', 'have', 'seen', 'the', 'attacks', 'in', 'France', ',', 'in', 'Belgium', ',', 'in', 'Germany', ',', 'and', 'all', 'over', 'the', 'world', '.', 'It', 'is', 'not', 'compassionate', ',', 'but', 'reckless', 'to', 'allow', 'uncontrolled', 'entry', 'from', 'places', 'where', 'proper', 'vetting', 'can', 'not', 'occur', '.', 'Those', 'given', 'the', 'high', 'honor', 'of', 'admission', 'to', 'the', 'United', 'States', 'should', 'support', 'this', 'country', 'and', 'love', 'its', 'people', 'and', 'its', 'values', '.', 'We', 'can', 'not', 'allow', 'a', 'beachhead', 'of', 'terrorism', 'to', 'form', 'inside', 'America', '.', 'We', 'can', 'not', 'allow', 'our', 'Nation', 'to', 'become', 'a', 'sanctuary', 'for', 'extremists', '.', 'That', 'is', 'why', 'my', 'administration', 'has', 'been', 'working', 'on', 'improved', 'vetting', 'procedures', ',', 'and', 'we', 'will', 'shortly', 'take', 'new', 'steps', 'to', 'keep', 'our', 'Nation', 'safe', 'and', 'to', 'keep', 'those', 'out', 'who', 'will', 'do', 'us', 'harm', '.', 'As', 'promised', ',', 'I', 'directed', 'the', 'Department', 'of', 'Defense', 'to', 'develop', 'a', 'plan', 'to', 'demolish', 'and', 'destroy', 'ISIS', ',', 'a', 'network', 'of', 'lawless', 'savages', 'that', 'have', 'slaughtered', 'Muslims', 'and', 'Christians', ',', 'and', 'men', 'and', 'women', 'and', 'children', 'of', 'all', 'faiths', 'and', 'all', 'beliefs', '.', 'We', 'will', 'work', 'with', 'our', 'allies', ',', 'including', 'our', 'friends', 'and', 'allies', 'in', 'the', 'Muslim', 'world', ',', 'to', 'extinguish', 'this', 'vile', 'enemy', 'from', 'our', 'planet', '.', 'I', 'have', 'also', 'imposed', 'new', 'sanctions', 'on', 'entities', 'and', 'individuals', 'who', 'support', 'Iran', \"'s\", 'ballistic', 'missile', 'program', 'and', 'reaffirmed', 'our', 'unbreakable', 'alliance', 'with', 'the', 'State', 'of', 'Israel', '.', 'Finally', ',', 'I', 'have', 'kept', 'my', 'promise', 'to', 'appoint', 'a', 'Justice', 'to', 'the', 'United', 'States', 'Supreme', 'Court', ',', 'from', 'my', 'list', 'of', '20', 'judges', ',', 'who', 'will', 'defend', 'our', 'Constitution', '.', 'I', 'am', 'greatly', 'honored', 'to', 'have', 'Maureen', 'Scalia', 'with', 'us', 'in', 'the', 'gallery', 'tonight', '.', 'Thank', 'you', ',', 'Maureen', '.', 'Her', 'late', ',', 'great', 'husband', ',', 'Antonin', 'Scalia', ',', 'will', 'forever', 'be', 'a', 'symbol', 'of', 'American', 'justice', '.', 'To', 'fill', 'his', 'seat', ',', 'we', 'have', 'chosen', 'Judge', 'Neil', 'Gorsuch', ',', 'a', 'man', 'of', 'incredible', 'skill', 'and', 'deep', 'devotion', 'to', 'the', 'law', '.', 'He', 'was', 'confirmed', 'unanimously', 'by', 'the', 'Court', 'of', 'Appeals', ',', 'and', 'I', 'am', 'asking', 'the', 'Senate', 'to', 'swiftly', 'approve', 'his', 'nomination', '.', 'Tonight', ',', 'as', 'I', 'outline', 'the', 'next', 'steps', 'we', 'must', 'take', 'as', 'a', 'country', ',', 'we', 'must', 'honestly', 'acknowledge', 'the', 'circumstances', 'we', 'inherited', '.', 'Ninety-four', 'million', 'Americans', 'are', 'out', 'of', 'the', 'labor', 'force', '.', 'Over', '43', 'million', 'people', 'are', 'now', 'living', 'in', 'poverty', ',', 'and', 'over', '43', 'million', 'Americans', 'are', 'on', 'food', 'stamps', '.', 'More', 'than', '1', 'in', '5', 'people', 'in', 'their', 'prime', 'working', 'years', 'are', 'not', 'working', '.', 'We', 'have', 'the', 'worst', 'financial', 'recovery', 'in', '65', 'years', '.', 'In', 'the', 'last', '8', 'years', ',', 'the', 'past', 'administration', 'has', 'put', 'on', 'more', 'new', 'debt', 'than', 'nearly', 'all', 'of', 'the', 'other', 'Presidents', 'combined', '.', 'We', \"'ve\", 'lost', 'more', 'than', 'one-fourth', 'of', 'our', 'manufacturing', 'jobs', 'since', 'NAFTA', 'was', 'approved', ',', 'and', 'we', \"'ve\", 'lost', '60,000', 'factories', 'since', 'China', 'joined', 'the', 'World', 'Trade', 'Organization', 'in', '2001', '.', 'Our', 'trade', 'deficit', 'in', 'goods', 'with', 'the', 'world', 'last', 'year', 'was', 'nearly', '$', '800', 'billion', 'dollars', '.', 'And', 'overseas', 'we', 'have', 'inherited', 'a', 'series', 'of', 'tragic', 'foreign', 'policy', 'disasters', '.', 'Solving', 'these', 'and', 'so', 'many', 'other', 'pressing', 'problems', 'will', 'require', 'us', 'to', 'work', 'past', 'the', 'differences', 'of', 'party', '.', 'It', 'will', 'require', 'us', 'to', 'tap', 'into', 'the', 'American', 'spirit', 'that', 'has', 'overcome', 'every', 'challenge', 'throughout', 'our', 'long', 'and', 'storied', 'history', '.', 'But', 'to', 'accomplish', 'our', 'goals', 'at', 'home', 'and', 'abroad', ',', 'we', 'must', 'restart', 'the', 'engine', 'of', 'the', 'American', 'economy', ',', 'making', 'it', 'easier', 'for', 'companies', 'to', 'do', 'business', 'in', 'the', 'United', 'States', ',', 'and', 'much', ',', 'much', 'harder', 'for', 'companies', 'to', 'leave', 'our', 'country', '.', 'Right', 'now', 'American', 'companies', 'are', 'taxed', 'at', 'one', 'of', 'the', 'highest', 'rates', 'anywhere', 'in', 'the', 'world', '.', 'My', 'economic', 'team', 'is', 'developing', 'historic', 'tax', 'reform', 'that', 'will', 'reduce', 'the', 'tax', 'rate', 'on', 'our', 'companies', 'so', 'they', 'can', 'compete', 'and', 'thrive', 'anywhere', 'and', 'with', 'anyone', '.', 'It', 'will', 'be', 'a', 'big', ',', 'big', 'cut', '.', 'At', 'the', 'same', 'time', ',', 'we', 'will', 'provide', 'massive', 'tax', 'relief', 'for', 'the', 'middle', 'class', '.', 'We', 'must', 'create', 'a', 'level', 'playing', 'field', 'for', 'American', 'companies', 'and', 'our', 'workers—have', 'to', 'do', 'it', '.', 'Currently', ',', 'when', 'we', 'ship', 'products', 'out', 'of', 'America', ',', 'many', 'other', 'countries', 'make', 'us', 'pay', 'very', 'high', 'tariffs', 'and', 'taxes', '.', 'But', 'when', 'foreign', 'companies', 'ship', 'their', 'products', 'into', 'America', ',', 'we', 'charge', 'them', 'nothing', ',', 'or', 'almost', 'nothing', '.', 'I', 'just', 'met', 'with', 'officials', 'and', 'workers', 'from', 'a', 'great', 'American', 'company', ',', 'Harley-Davidson', '.', 'In', 'fact', ',', 'they', 'proudly', 'displayed', 'five', 'of', 'their', 'magnificent', 'motorcycles', ',', 'made', 'in', 'the', 'U.S.A.', ',', 'on', 'the', 'front', 'lawn', 'of', 'the', 'White', 'House', '.', '[', 'Laughter', ']', 'And', 'they', 'wanted', 'me', 'to', 'ride', 'one', ',', 'and', 'I', 'said', ',', '``', 'No', ',', 'thank', 'you', '.', \"''\", '[', 'Laughter', ']', 'At', 'our', 'meeting', ',', 'I', 'asked', 'them', ',', 'how', 'are', 'you', 'doing', ',', 'how', 'is', 'business', '?', 'They', 'said', 'that', 'it', \"'s\", 'good', '.', 'I', 'asked', 'them', 'further', ',', 'how', 'are', 'you', 'doing', 'with', 'other', 'countries', ',', 'mainly', 'international', 'sales', '?', 'They', 'told', 'me—without', 'even', 'complaining', ',', 'because', 'they', 'have', 'been', 'so', 'mistreated', 'for', 'so', 'long', 'that', 'they', \"'ve\", 'become', 'used', 'to', 'it—that', 'it', \"'s\", 'very', 'hard', 'to', 'do', 'business', 'with', 'other', 'countries', 'because', 'they', 'tax', 'our', 'goods', 'at', 'such', 'a', 'high', 'rate', '.', 'They', 'said', 'that', 'in', 'the', 'case', 'of', 'another', 'country', ',', 'they', 'taxed', 'their', 'motorcycles', 'at', '100', 'percent', '.', 'They', 'were', \"n't\", 'even', 'asking', 'for', 'a', 'change', '.', 'But', 'I', 'am', '.', 'I', 'believe', 'strongly', 'in', 'free', 'trade', ',', 'but', 'it', 'also', 'has', 'to', 'be', 'fair', 'trade', '.', 'It', \"'s\", 'been', 'a', 'long', 'time', 'since', 'we', 'had', 'fair', 'trade', '.', 'The', 'first', 'Republican', 'President', ',', 'Abraham', 'Lincoln', ',', 'warned', 'that', 'the', '``', 'abandonment', 'of', 'the', 'protective', 'policy', 'by', 'the', 'American', 'Government', 'will', 'produce', 'want', 'and', 'ruin', 'among', 'our', 'people', '.', \"''\", 'Lincoln', 'was', 'right', ',', 'and', 'it', \"'s\", 'time', 'we', 'heeded', 'his', 'advice', 'and', 'his', 'words', '.', 'I', 'am', 'not', 'going', 'to', 'let', 'America', 'and', 'its', 'great', 'companies', 'and', 'workers', 'be', 'taken', 'advantage', 'of', 'us', 'any', 'longer', '.', 'They', 'have', 'taken', 'advantage', 'of', 'our', 'country', '.', 'No', 'longer', '.', 'I', 'am', 'going', 'to', 'bring', 'back', 'millions', 'of', 'jobs', '.', 'Protecting', 'our', 'workers', 'also', 'means', 'reforming', 'our', 'system', 'of', 'legal', 'immigration', '.', 'The', 'current', ',', 'outdated', 'system', 'depresses', 'wages', 'for', 'our', 'poorest', 'workers', 'and', 'puts', 'great', 'pressure', 'on', 'taxpayers', '.', 'Nations', 'around', 'the', 'world', 'like', 'Canada', ',', 'Australia', ',', 'and', 'many', 'others', ',', 'have', 'a', 'merit-based', 'immigration', 'system', '.', 'It', \"'s\", 'a', 'basic', 'principle', 'that', 'those', 'seeking', 'to', 'enter', 'a', 'country', 'ought', 'to', 'be', 'able', 'to', 'support', 'themselves', 'financially', '.', 'Yet', ',', 'in', 'America', ',', 'we', 'do', 'not', 'enforce', 'this', 'rule', ',', 'straining', 'the', 'very', 'public', 'resources', 'that', 'our', 'poorest', 'citizens', 'rely', 'upon', '.', 'According', 'to', 'the', 'National', 'Academy', 'of', 'Sciences', ',', 'our', 'current', 'immigration', 'system', 'costs', 'American', 'taxpayers', 'many', 'billions', 'of', 'dollars', 'a', 'year', '.', 'Switching', 'away', 'from', 'this', 'current', 'system', 'of', 'lower', 'skilled', 'immigration', ',', 'and', 'instead', 'adopting', 'a', 'merit-based', 'system', ',', 'we', 'will', 'have', 'so', 'many', 'more', 'benefits', '.', 'It', 'will', 'save', 'countless', 'dollars', ',', 'raise', 'workers', \"'\", 'wages', ',', 'and', 'help', 'struggling', 'families—including', 'immigrant', 'families—enter', 'the', 'middle', 'class', '.', 'And', 'they', 'will', 'do', 'it', 'quickly', ',', 'and', 'they', 'will', 'be', 'very', ',', 'very', 'happy', ',', 'indeed', '.', 'I', 'believe', 'that', 'real', 'and', 'positive', 'immigration', 'reform', 'is', 'possible', ',', 'as', 'long', 'as', 'we', 'focus', 'on', 'the', 'following', 'goals', ':', 'to', 'improve', 'jobs', 'and', 'wages', 'for', 'Americans', ',', 'to', 'strengthen', 'our', 'Nation', \"'s\", 'security', ',', 'and', 'to', 'restore', 'respect', 'for', 'our', 'laws', '.', 'If', 'we', 'are', 'guided', 'by', 'the', 'wellbeing', 'of', 'American', 'citizens', ',', 'then', 'I', 'believe', 'Republicans', 'and', 'Democrats', 'can', 'work', 'together', 'to', 'achieve', 'an', 'outcome', 'that', 'has', 'eluded', 'our', 'country', 'for', 'decades', '.', 'Another', 'Republican', 'President', ',', 'Dwight', 'D.', 'Eisenhower', ',', 'initiated', 'the', 'last', 'truly', 'great', 'national', 'infrastructure', 'program—the', 'building', 'of', 'the', 'Interstate', 'Highway', 'System', '.', 'The', 'time', 'has', 'come', 'for', 'a', 'new', 'program', 'of', 'national', 'rebuilding', '.', 'America', 'has', 'spent', 'approximately', '$', '6', 'trillion', 'in', 'the', 'Middle', 'East', ';', 'all', 'the', 'while', ',', 'our', 'infrastructure', 'at', 'home', 'is', 'crumbling', '.', 'With', 'this', '$', '6', 'trillion', ',', 'we', 'could', 'have', 'rebuilt', 'our', 'country', 'twice', ',', 'and', 'maybe', 'even', 'three', 'times', 'if', 'we', 'had', 'people', 'who', 'had', 'the', 'ability', 'to', 'negotiate', '.', '[', 'Laughter', ']', 'To', 'launch', 'our', 'national', 'rebuilding', ',', 'I', 'will', 'be', 'asking', 'Congress', 'to', 'approve', 'legislation', 'that', 'produces', 'a', '$', '1', 'trillion', 'investment', 'in', 'infrastructure', 'of', 'the', 'United', 'States—financed', 'through', 'both', 'public', 'and', 'private', 'capital—creating', 'millions', 'of', 'new', 'jobs', '.', 'This', 'effort', 'will', 'be', 'guided', 'by', 'two', 'core', 'principles', ':', 'buy', 'American', 'and', 'hire', 'American', '.', 'Tonight', 'I', 'am', 'also', 'calling', 'on', 'this', 'Congress', 'to', 'repeal', 'and', 'replace', 'Obamacare', 'with', 'reforms', 'that', 'expand', 'choice', ',', 'increase', 'access', ',', 'lower', 'costs', ',', 'and', 'at', 'the', 'same', 'time', ',', 'provide', 'better', 'health', 'care', '.', 'Mandating', 'every', 'American', 'to', 'buy', 'Government-approved', 'health', 'insurance', 'was', 'never', 'the', 'right', 'solution', 'for', 'our', 'country', '.', 'The', 'way', 'to', 'make', 'health', 'insurance', 'available', 'to', 'everyone', 'is', 'to', 'lower', 'the', 'cost', 'of', 'health', 'insurance', ',', 'and', 'that', 'is', 'what', 'we', 'are', 'going', 'do', '.', 'Obamacare', 'premiums', 'nationwide', 'have', 'increased', 'by', 'double', 'and', 'triple', 'digits', '.', 'As', 'an', 'example', ',', 'Arizona', 'went', 'up', '116', 'percent', 'last', 'year', 'alone', '.', 'Governor', 'Matt', 'Bevin', 'of', 'Kentucky', 'just', 'said', 'Obamacare', 'is', 'failing', 'in', 'his', 'State—the', 'State', 'of', 'Kentucky—and', 'it', \"'s\", 'unsustainable', 'and', 'collapsing', '.', 'One-third', 'of', 'the', 'counties', 'have', 'only', 'one', 'insurer', ',', 'and', 'they', 'are', 'losing', 'them', 'fast', '.', 'They', 'are', 'losing', 'them', 'so', 'fast', '.', 'They', 'are', 'leaving', ',', 'and', 'many', 'Americans', 'have', 'no', 'choice', 'at', 'all', '.', 'There', \"'s\", 'no', 'choice', 'left', '.', 'Remember', 'when', 'you', 'were', 'told', 'that', 'you', 'could', 'keep', 'your', 'doctor', 'and', 'keep', 'your', 'plan', '?', 'We', 'now', 'know', 'that', 'all', 'of', 'those', 'promises', 'have', 'been', 'totally', 'broken', '.', 'Obamacare', 'is', 'collapsing', ',', 'and', 'we', 'must', 'act', 'decisively', 'to', 'protect', 'all', 'Americans', '.', 'Action', 'is', 'not', 'a', 'choice', ',', 'it', 'is', 'a', 'necessity', '.', 'So', 'I', 'am', 'calling', 'on', 'all', 'Democrats', 'and', 'Republicans', 'in', 'Congress', 'to', 'work', 'with', 'us', 'to', 'save', 'Americans', 'from', 'this', 'imploding', 'Obamacare', 'disaster', '.', 'Here', 'are', 'the', 'principles', 'that', 'should', 'guide', 'the', 'Congress', 'as', 'we', 'move', 'to', 'create', 'a', 'better', 'health', 'care', 'system', 'for', 'all', 'Americans', ':', 'First', ',', 'we', 'should', 'ensure', 'that', 'Americans', 'with', 'preexisting', 'conditions', 'have', 'access', 'to', 'coverage', ',', 'and', 'that', 'we', 'have', 'a', 'stable', 'transition', 'for', 'Americans', 'currently', 'enrolled', 'in', 'the', 'health', 'care', 'exchanges', '.', 'Secondly', ',', 'we', 'should', 'help', 'Americans', 'purchase', 'their', 'own', 'coverage', 'through', 'the', 'use', 'of', 'tax', 'credits', 'and', 'expanded', 'health', 'savings', 'accounts', ',', 'but', 'it', 'must', 'be', 'the', 'plan', 'they', 'want', ',', 'not', 'the', 'plan', 'forced', 'on', 'them', 'by', 'our', 'Government', '.', 'Thirdly', ',', 'we', 'should', 'give', 'our', 'State', 'Governors', 'the', 'resources', 'and', 'flexibility', 'they', 'need', 'with', 'Medicaid', 'to', 'make', 'sure', 'no', 'one', 'is', 'left', 'out', '.', 'Fourth', ',', 'we', 'should', 'implement', 'legal', 'reforms', 'that', 'protect', 'patients', 'and', 'doctors', 'from', 'unnecessary', 'costs', 'that', 'drive', 'up', 'the', 'price', 'of', 'insurance', 'and', 'work', 'to', 'bring', 'down', 'the', 'artificially', 'high', 'price', 'of', 'drugs', 'and', 'bring', 'them', 'down', 'immediately', '.', 'And', 'finally', ',', 'the', 'time', 'has', 'come', 'to', 'give', 'Americans', 'the', 'freedom', 'to', 'purchase', 'health', 'insurance', 'across', 'State', 'lines', ',', 'which', 'will', 'create', 'a', 'truly', 'competitive', 'national', 'marketplace', 'that', 'will', 'bring', 'costs', 'way', 'down', 'and', 'provide', 'far', 'better', 'care', '.', 'So', 'important', '.', 'Everything', 'that', 'is', 'broken', 'in', 'our', 'country', 'can', 'be', 'fixed', '.', 'Every', 'problem', 'can', 'be', 'solved', '.', 'And', 'every', 'hurting', 'family', 'can', 'find', 'healing', 'and', 'hope', '.', 'Our', 'citizens', 'deserve', 'this', 'and', 'so', 'much', 'more', ',', 'so', 'why', 'not', 'join', 'forces', 'and', 'finally', 'get', 'the', 'job', 'done', ',', 'and', 'get', 'it', 'done', 'right', '?', 'On', 'this', 'and', 'so', 'many', 'other', 'things', ',', 'Democrats', 'and', 'Republicans', 'should', 'get', 'together', 'and', 'unite', 'for', 'the', 'good', 'of', 'our', 'country', 'and', 'for', 'the', 'good', 'of', 'the', 'American', 'people', '.', 'My', 'administration', 'wants', 'to', 'work', 'with', 'members', 'of', 'both', 'parties', 'to', 'make', 'childcare', 'accessible', 'and', 'affordable', ';', 'to', 'help', 'ensure', 'new', 'parents', 'that', 'they', 'have', 'paid', 'family', 'leave', ';', 'to', 'invest', 'in', 'women', \"'s\", 'health', ';', 'and', 'to', 'promote', 'clean', 'air', 'and', 'clean', 'water', ';', 'and', 'to', 'rebuild', 'our', 'military', 'and', 'our', 'infrastructure', '.', 'True', 'love', 'for', 'our', 'people', 'requires', 'us', 'to', 'find', 'common', 'ground', ',', 'to', 'advance', 'the', 'common', 'good', ',', 'and', 'to', 'cooperate', 'on', 'behalf', 'of', 'every', 'American', 'child', 'who', 'deserves', 'a', 'much', 'brighter', 'future', '.', 'An', 'incredible', 'young', 'woman', 'is', 'with', 'us', 'this', 'evening', ',', 'who', 'should', 'serve', 'as', 'an', 'inspiration', 'to', 'us', 'all', '.', 'Today', 'is', 'Rare', 'Disease', 'Day', ',', 'and', 'joining', 'us', 'in', 'the', 'gallery', 'is', 'a', 'rare', 'disease', 'survivor', ',', 'Megan', 'Crowley', '.', 'Megan', 'was', 'diagnosed', 'with', 'Pompe', 'disease', ',', 'a', 'rare', 'and', 'serious', 'illness', ',', 'when', 'she', 'was', '15', 'months', 'old', '.', 'She', 'was', 'not', 'expected', 'to', 'live', 'past', '5', '.', 'On', 'receiving', 'this', 'news', ',', 'Megan', \"'s\", 'dad', 'John', 'fought', 'with', 'everything', 'he', 'had', 'to', 'save', 'the', 'life', 'of', 'his', 'precious', 'child', '.', 'He', 'founded', 'a', 'company', 'to', 'look', 'for', 'a', 'cure', 'and', 'helped', 'develop', 'the', 'drug', 'that', 'saved', 'Megan', \"'s\", 'life', '.', 'Today', 'she', 'is', '20', 'years', 'old', 'and', 'a', 'sophomore', 'at', 'Notre', 'Dame', '.', 'Megan', \"'s\", 'story', 'is', 'about', 'the', 'unbounded', 'power', 'of', 'a', 'father', \"'s\", 'love', 'for', 'a', 'daughter', '.', 'But', 'our', 'slow', 'and', 'burdensome', 'approval', 'process', 'at', 'the', 'Food', 'and', 'Drug', 'Administration', 'keeps', 'too', 'many', 'advances', ',', 'like', 'the', 'one', 'that', 'saved', 'Megan', \"'s\", 'life', ',', 'from', 'reaching', 'those', 'in', 'need', '.', 'If', 'we', 'slash', 'the', 'restraints', ',', 'not', 'just', 'at', 'the', 'FDA', ',', 'but', 'across', 'our', 'Government', ',', 'then', 'we', 'will', 'be', 'blessed', 'with', 'far', 'more', 'miracles', 'just', 'like', 'Megan', '.', 'In', 'fact', ',', 'our', 'children', 'will', 'grow', 'up', 'in', 'a', 'nation', 'of', 'miracles', '.', 'But', 'to', 'achieve', 'this', 'future', ',', 'we', 'must', 'enrich', 'the', 'mind', 'and', 'the', 'souls', 'of', 'every', 'American', 'child', '.', 'Education', 'is', 'the', 'civil', 'rights', 'issue', 'of', 'our', 'time', '.', 'I', 'am', 'calling', 'upon', 'members', 'of', 'both', 'parties', 'to', 'pass', 'an', 'education', 'bill', 'that', 'funds', 'school', 'choice', 'for', 'disadvantaged', 'youth', ',', 'including', 'millions', 'of', 'African', 'American', 'and', 'Latino', 'children', '.', 'These', 'families', 'should', 'be', 'free', 'to', 'choose', 'the', 'public', ',', 'private', ',', 'charter', ',', 'magnet', ',', 'religious', ',', 'or', 'home', 'school', 'that', 'is', 'right', 'for', 'them', '.', 'Joining', 'us', 'tonight', 'in', 'the', 'gallery', 'is', 'a', 'remarkable', 'woman', ',', 'Denisha', 'Merriweather', '.', 'As', 'a', 'young', 'girl', ',', 'Denisha', 'struggled', 'in', 'school', 'and', 'failed', 'third', 'grade', 'twice', '.', 'But', 'then', ',', 'she', 'was', 'able', 'to', 'enroll', 'in', 'a', 'private', 'center', 'for', 'learning—great', 'learning', 'center—with', 'the', 'help', 'of', 'a', 'tax', 'credit', 'and', 'a', 'scholarship', 'program', '.', 'Today', ',', 'she', 'is', 'the', 'first', 'in', 'her', 'family', 'to', 'graduate', ',', 'not', 'just', 'from', 'high', 'school', ',', 'but', 'from', 'college', '.', 'Later', 'this', 'year', 'she', 'will', 'get', 'her', 'master', \"'s\", 'degree', 'in', 'social', 'work', '.', 'We', 'want', 'all', 'children', 'to', 'be', 'able', 'to', 'break', 'the', 'cycle', 'of', 'poverty', 'just', 'like', 'Denisha', '.', 'But', 'to', 'break', 'the', 'cycle', 'of', 'poverty', ',', 'we', 'must', 'also', 'break', 'the', 'cycle', 'of', 'violence', '.', 'The', 'murder', 'rate', 'in', '2015', 'experienced', 'its', 'largest', 'single-year', 'increase', 'in', 'nearly', 'half', 'a', 'century', '.', 'In', 'Chicago', ',', 'more', 'than', '4,000', 'people', 'were', 'shot', 'last', 'year', 'alone', ',', 'and', 'the', 'murder', 'rate', 'so', 'far', 'this', 'year', 'has', 'been', 'even', 'higher', '.', 'This', 'is', 'not', 'acceptable', 'in', 'our', 'society', '.', 'Every', 'American', 'child', 'should', 'be', 'able', 'to', 'grow', 'up', 'in', 'a', 'safe', 'community', ',', 'to', 'attend', 'a', 'great', 'school', ',', 'and', 'to', 'have', 'access', 'to', 'a', 'high-paying', 'job', '.', 'But', 'to', 'create', 'this', 'future', ',', 'we', 'must', 'work', 'with', ',', 'not', 'against—not', 'against—the', 'men', 'and', 'women', 'of', 'law', 'enforcement', '.', 'We', 'must', 'build', 'bridges', 'of', 'cooperation', 'and', 'trust', ',', 'not', 'drive', 'the', 'wedge', 'of', 'disunity', ',', 'and', 'really', ',', 'it', \"'s\", 'what', 'it', 'is—division', '.', 'It', \"'s\", 'pure', ',', 'unadulterated', 'division', '.', 'We', 'have', 'to', 'unify', '.', 'Police', 'and', 'sheriffs', 'are', 'members', 'of', 'our', 'community', '.', 'They', \"'re\", 'friends', 'and', 'neighbors', ',', 'they', \"'re\", 'mothers', 'and', 'fathers', ',', 'sons', 'and', 'daughters', ',', 'and', 'they', 'leave', 'behind', 'loved', 'ones', 'every', 'day', 'who', 'worry', 'about', 'whether', 'or', 'not', 'they', \"'ll\", 'come', 'home', 'safe', 'and', 'sound', '.', 'We', 'must', 'support', 'the', 'incredible', 'men', 'and', 'women', 'of', 'law', 'enforcement', '.', 'And', 'we', 'must', 'support', 'the', 'victims', 'of', 'crime', '.', 'I', 'have', 'ordered', 'the', 'Department', 'of', 'Homeland', 'Security', 'to', 'create', 'an', 'office', 'to', 'serve', 'American', 'victims', '.', 'The', 'office', 'is', 'called', 'VOICE', ':', 'Victims', 'of', 'Immigration', 'Crime', 'Engagement', '.', 'We', 'are', 'providing', 'a', 'voice', 'to', 'those', 'who', 'have', 'been', 'ignored', 'by', 'our', 'media', 'and', 'silenced', 'by', 'special', 'interests', '.', 'Joining', 'us', 'in', 'the', 'audience', 'tonight', 'are', 'four', 'very', 'brave', 'Americans', 'whose', 'Government', 'failed', 'them', '.', 'Their', 'names', 'are', 'Jamiel', 'Shaw', ',', 'Susan', 'Oliver', ',', 'Jenna', 'Oliver', ',', 'and', 'Jessica', 'Davis', '.', 'Jamiel', \"'s\", '17-year-old', 'son', 'was', 'viciously', 'murdered', 'by', 'an', 'illegal', 'immigrant', 'gang', 'member', 'who', 'had', 'just', 'been', 'released', 'from', 'prison', '.', 'Jamiel', 'Shaw', ',', 'Jr.', 'was', 'an', 'incredible', 'young', 'man', ',', 'with', 'unlimited', 'potential', ',', 'who', 'was', 'getting', 'ready', 'to', 'go', 'to', 'college', 'where', 'he', 'would', 'have', 'excelled', 'as', 'a', 'great', 'college', 'quarterback', '.', 'But', 'he', 'never', 'got', 'the', 'chance', '.', 'His', 'father', ',', 'who', 'is', 'in', 'the', 'audience', 'tonight', ',', 'has', 'become', 'a', 'very', 'good', 'friend', 'of', 'mine', '.', 'Jamiel', ',', 'thank', 'you', '.', 'Thank', 'you', '.', 'Also', 'with', 'us', 'are', 'Susan', 'Oliver', 'and', 'Jessica', 'Davis', '.', 'Their', 'husbands', ',', 'Deputy', 'Sheriff', 'Danny', 'Oliver', 'and', 'Detective', 'Michael', 'Davis', ',', 'were', 'slain', 'in', 'the', 'line', 'of', 'duty', 'in', 'California', '.', 'They', 'were', 'pillars', 'of', 'their', 'community', '.', 'These', 'brave', 'men', 'were', 'viciously', 'gunned', 'down', 'by', 'an', 'illegal', 'immigrant', 'with', 'a', 'criminal', 'record', 'and', 'two', 'prior', 'deportations', '.', 'Should', 'have', 'never', 'been', 'in', 'our', 'country', '.', 'Sitting', 'with', 'Susan', 'is', 'her', 'daughter', ',', 'Jenna', '.', 'Jenna', ',', 'I', 'want', 'you', 'to', 'know', 'that', 'your', 'father', 'was', 'a', 'hero', ',', 'and', 'that', 'tonight', 'you', 'have', 'the', 'love', 'of', 'an', 'entire', 'country', 'supporting', 'you', 'and', 'praying', 'for', 'you', '.', 'To', 'Jamiel', ',', 'Jenna', ',', 'Susan', ',', 'and', 'Jessica', ':', 'I', 'want', 'you', 'to', 'know', 'that', 'we', 'will', 'never', 'stop', 'fighting', 'for', 'justice', '.', 'Your', 'loved', 'ones', 'will', 'never', ',', 'ever', 'be', 'forgotten', '.', 'We', 'will', 'always', 'honor', 'their', 'memory', '.', 'Finally', ',', 'to', 'keep', 'America', 'safe', ',', 'we', 'must', 'provide', 'the', 'men', 'and', 'women', 'of', 'the', 'United', 'States', 'military', 'with', 'the', 'tools', 'they', 'need', 'to', 'prevent', 'war', '.', 'If', 'they', 'must', ',', 'they', 'have', 'to', 'fight', 'and', 'they', 'only', 'have', 'to', 'win', '.', 'I', 'am', 'sending', 'Congress', 'a', 'budget', 'that', 'rebuilds', 'the', 'military', ',', 'eliminates', 'the', 'defense', 'sequester', ',', 'and', 'calls', 'for', 'one', 'of', 'the', 'largest', 'increases', 'in', 'national', 'defense', 'spending', 'in', 'American', 'history', '.', 'My', 'budget', 'will', 'also', 'increase', 'funding', 'for', 'our', 'veterans', '.', 'Our', 'veterans', 'have', 'delivered', 'for', 'this', 'Nation', ',', 'and', 'now', 'we', 'must', 'deliver', 'for', 'them', '.', 'The', 'challenges', 'we', 'face', 'as', 'a', 'nation', 'are', 'great', ',', 'but', 'our', 'people', 'are', 'even', 'greater', '.', 'And', 'none', 'are', 'greater', 'or', 'are', 'braver', 'than', 'those', 'who', 'fight', 'for', 'America', 'in', 'uniform', '.', 'We', 'are', 'blessed', 'to', 'be', 'joined', 'tonight', 'by', 'Carryn', 'Owens', ',', 'the', 'widow', 'of', 'U.S.', 'Navy', 'Special', 'Operator', ',', 'Senior', 'Chief', 'William', '``', 'Ryan', \"''\", 'Owens', '.', 'Ryan', 'died', 'as', 'he', 'lived', ':', 'a', 'warrior', 'and', 'a', 'hero', ',', 'battling', 'against', 'terrorism', 'and', 'securing', 'our', 'Nation', '.', 'I', 'just', 'spoke', 'to', 'our', 'great', 'General', 'Mattis', ',', 'just', 'now', ',', 'who', 'reconfirmed', 'that—and', 'I', 'quote—', \"''\", 'Ryan', 'was', 'a', 'part', 'of', 'a', 'highly', 'successful', 'raid', 'that', 'generated', 'large', 'amounts', 'of', 'vital', 'intelligence', 'that', 'will', 'lead', 'to', 'many', 'more', 'victories', 'in', 'the', 'future', 'against', 'our', 'enemy', '.', \"''\", 'Ryan', \"'s\", 'legacy', 'is', 'etched', 'into', 'eternity', '.', 'Thank', 'you', '.', '[', 'Applause', ']', 'And', 'Ryan', 'is', 'looking', 'down', ',', 'right', 'now—you', 'know', 'that—and', 'he', 'is', 'very', 'happy', 'because', 'I', 'think', 'he', 'just', 'broke', 'a', 'record', '.', '[', 'Laughter', ']', 'For', 'as', 'the', 'Bible', 'teaches', 'us', ',', 'there', 'is', 'no', 'greater', 'act', 'of', 'love', 'than', 'to', 'lay', 'down', 'one', \"'s\", 'life', 'for', 'one', \"'s\", 'friends', '.', 'Ryan', 'laid', 'down', 'his', 'life', 'for', 'his', 'friends', ',', 'for', 'his', 'country', ',', 'and', 'for', 'our', 'freedom', '.', 'And', 'we', 'will', 'never', 'forget', 'Ryan', '.', 'To', 'those', 'allies', 'who', 'wonder', 'what', 'kind', 'of', 'a', 'friend', 'America', 'will', 'be', ',', 'look', 'no', 'further', 'than', 'the', 'heroes', 'who', 'wear', 'our', 'uniform', '.', 'Our', 'foreign', 'policy', 'calls', 'for', 'a', 'direct', ',', 'robust', ',', 'and', 'meaningful', 'engagement', 'with', 'the', 'world', '.', 'It', 'is', 'American', 'leadership', 'based', 'on', 'vital', 'security', 'interests', 'that', 'we', 'share', 'with', 'our', 'allies', 'all', 'across', 'the', 'globe', '.', 'We', 'strongly', 'support', 'NATO', ',', 'an', 'alliance', 'forged', 'through', 'the', 'bonds', 'of', 'two', 'world', 'wars', 'that', 'dethroned', 'fascism', ',', 'and', 'a', 'cold', 'war', ',', 'and', 'defeated', 'communism', '.', 'But', 'our', 'partners', 'must', 'meet', 'their', 'financial', 'obligations', '.', 'And', 'now', ',', 'based', 'on', 'our', 'very', 'strong', 'and', 'frank', 'discussions', ',', 'they', 'are', 'beginning', 'to', 'do', 'just', 'that', '.', 'In', 'fact', ',', 'I', 'can', 'tell', 'you', ',', 'the', 'money', 'is', 'pouring', 'in', '.', 'Very', 'nice', '.', 'We', 'expect', 'our', 'partners—whether', 'in', 'NATO', ',', 'the', 'Middle', 'East', ',', 'or', 'in', 'the', 'Pacific—to', 'take', 'a', 'direct', 'and', 'meaningful', 'role', 'in', 'both', 'strategic', 'and', 'military', 'operations', ',', 'and', 'pay', 'their', 'fair', 'share', 'of', 'the', 'cost', '.', 'Have', 'to', 'do', 'that', '.', 'We', 'will', 'respect', 'historic', 'institutions', ',', 'but', 'we', 'will', 'respect', 'the', 'foreign', 'rights', 'of', 'all', 'nations', ',', 'and', 'they', 'have', 'to', 'respect', 'our', 'rights', 'as', 'a', 'nation', 'also', '.', 'Free', 'nations', 'are', 'the', 'best', 'vehicle', 'for', 'expressing', 'the', 'will', 'of', 'the', 'people', ',', 'and', 'America', 'respects', 'the', 'right', 'of', 'all', 'nations', 'to', 'chart', 'their', 'own', 'path', '.', 'My', 'job', 'is', 'not', 'to', 'represent', 'the', 'world', '.', 'My', 'job', 'is', 'to', 'represent', 'the', 'United', 'States', 'of', 'America', '.', 'But', 'we', 'know', 'that', 'America', 'is', 'better', 'off', 'when', 'there', 'is', 'less', 'conflict', ',', 'not', 'more', '.', 'We', 'must', 'learn', 'from', 'the', 'mistakes', 'of', 'the', 'past', '.', 'We', 'have', 'seen', 'the', 'war', 'and', 'the', 'destruction', 'that', 'have', 'ravaged', 'and', 'raged', 'throughout', 'the', 'world—all', 'across', 'the', 'world', '.', 'The', 'only', 'long-term', 'solution', 'for', 'these', 'humanitarian', 'disasters', ',', 'in', 'many', 'cases', ',', 'is', 'to', 'create', 'the', 'conditions', 'where', 'displaced', 'persons', 'can', 'safely', 'return', 'home', 'and', 'begin', 'the', 'long', ',', 'long', 'process', 'of', 'rebuilding', '.', 'America', 'is', 'willing', 'to', 'find', 'new', 'friends', 'and', 'to', 'forge', 'new', 'partnerships', 'where', 'shared', 'interests', 'align', '.', 'We', 'want', 'harmony', 'and', 'stability', ',', 'not', 'war', 'and', 'conflict', '.', 'We', 'want', 'peace', ',', 'wherever', 'peace', 'can', 'be', 'found', '.', 'America', 'is', 'friends', 'today', 'with', 'former', 'enemies', '.', 'Some', 'of', 'our', 'closest', 'allies', ',', 'decades', 'ago', ',', 'fought', 'on', 'the', 'opposite', 'side', 'of', 'these', 'terrible', ',', 'terrible', 'wars', '.', 'This', 'history', 'should', 'give', 'us', 'all', 'faith', 'in', 'the', 'possibilities', 'for', 'a', 'better', 'world', '.', 'Hopefully', ',', 'the', '250th', 'year', 'for', 'America', 'will', 'see', 'a', 'world', 'that', 'is', 'more', 'peaceful', ',', 'more', 'just', ',', 'and', 'more', 'free', '.', 'On', 'our', '100th', 'anniversary', ',', 'in', '1876', ',', 'citizens', 'from', 'across', 'our', 'Nation', 'came', 'to', 'Philadelphia', 'to', 'celebrate', 'America', \"'s\", 'centennial', '.', 'At', 'that', 'celebration', ',', 'the', 'country', \"'s\", 'builders', 'and', 'artists', 'and', 'inventors', 'showed', 'off', 'their', 'wonderful', 'creations', '.', 'Alexander', 'Graham', 'Bell', 'displayed', 'his', 'telephone', 'for', 'the', 'first', 'time', '.', 'Remington', 'unveiled', 'the', 'first', 'typewriter', '.', 'An', 'early', 'attempt', 'was', 'made', 'at', 'electric', 'light', '.', 'Thomas', 'Edison', 'showed', 'an', 'automatic', 'telegraph', 'and', 'an', 'electric', 'pen', '.', 'Imagine', 'the', 'wonders', 'our', 'country', 'could', 'know', 'in', 'America', \"'s\", '250th', 'year', '.', 'Think', 'of', 'the', 'marvels', 'we', 'can', 'achieve', 'if', 'we', 'simply', 'set', 'free', 'the', 'dreams', 'of', 'our', 'people', '.', 'Cures', 'to', 'the', 'illnesses', 'that', 'have', 'always', 'plagued', 'us', 'are', 'not', 'too', 'much', 'to', 'hope', '.', 'American', 'footprints', 'on', 'distant', 'worlds', 'are', 'not', 'too', 'big', 'a', 'dream', '.', 'Millions', 'lifted', 'from', 'welfare', 'to', 'work', 'is', 'not', 'too', 'much', 'to', 'expect', '.', 'And', 'streets', 'where', 'mothers', 'are', 'safe', 'from', 'fear', ',', 'schools', 'where', 'children', 'learn', 'in', 'peace', ',', 'and', 'jobs', 'where', 'Americans', 'prosper', 'and', 'grow', 'are', 'not', 'too', 'much', 'to', 'ask', '.', 'When', 'we', 'have', 'all', 'of', 'this', ',', 'we', 'will', 'have', 'made', 'America', 'greater', 'than', 'ever', 'before—for', 'all', 'Americans', '.', 'This', 'is', 'our', 'vision', '.', 'This', 'is', 'our', 'mission', '.', 'But', 'we', 'can', 'only', 'get', 'there', 'together', '.', 'We', 'are', 'one', 'people', 'with', 'one', 'destiny', '.', 'We', 'all', 'bleed', 'the', 'same', 'blood', '.', 'We', 'all', 'salute', 'the', 'same', 'great', 'American', 'flag', '.', 'And', 'we', 'all', 'are', 'made', 'by', 'the', 'same', 'God', '.', 'When', 'we', 'fulfill', 'this', 'vision', ',', 'when', 'we', 'celebrate', 'our', '250', 'years', 'of', 'glorious', 'freedom', ',', 'we', 'will', 'look', 'back', 'on', 'tonight', 'as', 'when', 'this', 'new', 'chapter', 'of', 'American', 'greatness', 'began', '.', 'The', 'time', 'for', 'small', 'thinking', 'is', 'over', '.', 'The', 'time', 'for', 'trivial', 'fights', 'is', 'behind', 'us', '.', 'We', 'just', 'need', 'the', 'courage', 'to', 'share', 'the', 'dreams', 'that', 'fill', 'our', 'hearts', ',', 'the', 'bravery', 'to', 'express', 'the', 'hopes', 'that', 'stir', 'our', 'souls', ',', 'and', 'the', 'confidence', 'to', 'turn', 'those', 'hopes', 'and', 'those', 'dreams', 'into', 'action', '.', 'From', 'now', 'on', ',', 'America', 'will', 'be', 'empowered', 'by', 'our', 'aspirations', ',', 'not', 'burdened', 'by', 'our', 'fears', ';', 'inspired', 'by', 'the', 'future', ',', 'not', 'bound', 'by', 'failures', 'of', 'the', 'past', ';', 'and', 'guided', 'by', 'our', 'vision', ',', 'not', 'blinded', 'by', 'our', 'doubts', '.', 'I', 'am', 'asking', 'all', 'citizens', 'to', 'embrace', 'this', 'renewal', 'of', 'the', 'American', 'spirit', '.', 'I', 'am', 'asking', 'all', 'Members', 'of', 'Congress', 'to', 'join', 'me', 'in', 'dreaming', 'big', 'and', 'bold', ',', 'and', 'daring', 'things', 'for', 'our', 'country', '.', 'I', 'am', 'asking', 'everyone', 'watching', 'tonight', 'to', 'seize', 'this', 'moment', '.', 'Believe', 'in', 'yourselves', ',', 'believe', 'in', 'your', 'future', ',', 'and', 'believe', ',', 'once', 'more', ',', 'in', 'America', '.', 'Thank', 'you', ',', 'God', 'bless', 'you', ',', 'and', 'God', 'bless', 'the', 'United', 'States', '.']\n"
     ]
    },
    {
     "name": "stderr",
     "output_type": "stream",
     "text": [
      "[nltk_data] Downloading package punkt to /home/crdds/nltk_data...\n",
      "[nltk_data]   Package punkt is already up-to-date!\n"
     ]
    }
   ],
   "source": [
    "import nltk\n",
    "from nltk.tokenize import word_tokenize\n",
    "\n",
    "nltk.download('punkt')\n",
    "file = open(\"../datasets/trump.txt\", \"r\",encoding=\"utf-8\") \n",
    "trump = file.read()\n",
    "words = word_tokenize(trump)\n",
    "\n",
    "print(words)\n",
    "# fill the gap and imports"
   ]
  },
  {
   "cell_type": "markdown",
   "metadata": {},
   "source": [
    "## Exercise 3. Get the nouns in the last 10 sentences from Trump's speech and find the nouns divided by sentencens. Use SpaCy.\n",
    "\n",
    "Please use Python list features to get the last 10 sentences and display nouns from it."
   ]
  },
  {
   "cell_type": "code",
   "execution_count": 34,
   "metadata": {},
   "outputs": [
    {
     "name": "stdout",
     "output_type": "stream",
     "text": [
      "['Members', 'citizens', 'Tonight', 'conclusion', 'celebration', 'Nation', 'path', 'rights', 'work', 'threats', 'community', 'centers', 'vandalism', 'cemeteries', 'week', 'shooting', 'nation', 'policies', 'country', 'hate', 'evil', 'forms', 'generation', 'torch', 'truth', 'liberty', 'justice', 'chain', 'way', 'present', 'torch', 'hands', 'world', 'tonight', 'message', 'unity', 'strength', 'message', 'heart', 'chapter', 'greatness', 'pride', 'Nation', 'surge', 'optimism', 'dreams', 'grasp', 'today', 'renewal', 'spirit', 'allies', 'nations', 'world', 'friend', 'foe', 'years', 'anniversary', 'founding', 'years', 'day', 'independence', 'milestones', 'history', 'world', 'year', 'kind', 'country', 'children', 'mistakes', 'decades', 'course', 'future', 'class', 'shrink', 'jobs', 'wealth', 'countries', 'project', 'fates', 'children', 'cities', 'places', 'land', 'borders', 'nations', 'borders', 'drugs', 'rate', 'trillions', 'trillions', 'dollars', 'infrastructure', 'home', 'feet', 'rebellion', 'protest', 'families', 'colors', 'creeds', 'families', 'shot', 'children', 'hearing', 'concerns', 'voices', 'chorus', 'thousands', 'citizens', 'cities', 'country', 'chorus', 'earthquake', 'people', 'tens', 'millions', 'demand', 'citizens', 'industries', 'life', 'veterans', 'care', 'military', 'resources', 'warriors', 'infrastructure', 'roads', 'bridges', 'tunnels', 'airports', 'land', 'drug', 'epidemic', 'cities', 'rebirth', 'hope', 'safety', 'opportunity', 'promises', 'people', 'month', 'moment', 'Nation', 'progress', 'promises', 'election', 'others', 'billions', 'billions', 'dollars', 'tens', 'thousands', 'jobs', 'stock', 'market', 'value', 'election', 'record', 'taxpayers', 'hundreds', 'millions', 'dollars', 'price', 'fantastic', 'jet', 'fighter', 'billions', 'contracts', 'freeze', 'workers', 'swamp', 'government', 'corruption', 'year', 'ban', 'lobbying', 'branch', 'officials', 'lifetime', 'ban—[applause]—thank', 'lifetime', 'ban', 'lobbyists', 'government', 'effort', 'job', 'regulations', 'deregulation', 'agency', 'rule', 'regulation', 'regulations', 'regulations', 'future', 'livelihood', 'coal', 'miners', 'way', 'construction', 'pipelines', 'tens', 'thousands', 'jobs', 'directive', 'pipelines', 'steel', 'job', 'help', 'council', 'neighbors', 'women', 'entrepreneurs', 'access', 'networks', 'markets', 'capital', 'business', 'dreams', 'citizens', 'strategy', 'cartels', 'Nation', 'drugs', 'country', 'youth', 'treatment', 'time', 'administration', 'pleas', 'people', 'immigration', 'enforcement', 'border', 'security', 'immigration', 'laws', 'wages', 'billions', 'billions', 'dollars', 'communities', 'environment', 'chaos', 'integrity', 'rule', 'law', 'borders', 'reason', 'construction', 'wall', 'border', 'tonight', 'gang', 'members', 'drug', 'dealers', 'criminals', 'communities', 'prey', 'citizens', 'ones', 'campaign', 'laws', 'question', 'family', 'jobs', 'income', 'one', 'laws', 'borders', 'obligation', 'citizens', 'measures', 'Nation', 'terrorism', 'data', 'majority', 'individuals', 'terrorism', 'terrorism', 'offenses', 'country', 'attacks', 'home', 'attacks', 'world', 'entry', 'places', 'vetting', 'honor', 'admission', 'country', 'people', 'values', 'beachhead', 'terrorism', 'Nation', 'sanctuary', 'extremists', 'administration', 'vetting', 'procedures', 'steps', 'Nation', 'plan', 'network', 'savages', 'men', 'women', 'children', 'faiths', 'beliefs', 'allies', 'friends', 'allies', 'world', 'enemy', 'planet', 'sanctions', 'entities', 'individuals', 'missile', 'program', 'alliance', 'promise', 'Justice', 'list', 'judges', 'gallery', 'tonight', 'husband', 'symbol', 'justice', 'seat', 'man', 'skill', 'devotion', 'law', 'nomination', 'Tonight', 'steps', 'country', 'circumstances', 'labor', 'force', 'people', 'poverty', 'food', 'stamps', 'people', 'working', 'years', 'recovery', 'years', 'years', 'administration', 'debt', 'Presidents', 'fourth', 'manufacturing', 'jobs', 'factories', 'trade', 'deficit', 'goods', 'world', 'year', 'dollars', 'series', 'policy', 'disasters', 'problems', 'differences', 'party', 'spirit', 'challenge', 'history', 'goals', 'home', 'engine', 'economy', 'companies', 'business', 'companies', 'country', 'companies', 'rates', 'world', 'team', 'tax', 'reform', 'tax', 'rate', 'companies', 'cut', 'time', 'tax', 'relief', 'class', 'playing', 'field', 'companies', 'workers', 'products', 'countries', 'tariffs', 'taxes', 'companies', 'products', 'officials', 'workers', 'company', 'fact', 'motorcycles', 'lawn', 'Laughter', 'meeting', 'business', 'countries', 'sales', 'business', 'countries', 'goods', 'rate', 'case', 'country', 'motorcycles', 'percent', 'change', 'trade', 'trade', 'time', 'trade', 'abandonment', 'policy', 'people', 'time', 'advice', 'words', 'companies', 'workers', 'advantage', 'advantage', 'country', 'millions', 'jobs', 'workers', 'system', 'immigration', 'system', 'wages', 'workers', 'pressure', 'taxpayers', 'Nations', 'world', 'others', 'merit', 'immigration', 'system', 'principle', 'country', 'rule', 'resources', 'citizens', 'immigration', 'system', 'taxpayers', 'billions', 'dollars', 'year', 'system', 'immigration', 'merit', 'system', 'benefits', 'dollars', 'workers', 'wages', 'families', 'families', 'class', 'immigration', 'reform', 'goals', 'jobs', 'wages', 'Nation', 'security', 'respect', 'laws', 'wellbeing', 'citizens', 'outcome', 'country', 'decades', 'infrastructure', 'program', 'building', 'time', 'program', 'rebuilding', 'while', 'infrastructure', 'home', 'country', 'times', 'people', 'ability', 'rebuilding', 'legislation', 'investment', 'infrastructure', 'capital', 'millions', 'jobs', 'effort', 'core', 'principles', 'Tonight', 'reforms', 'choice', 'access', 'costs', 'time', 'health', 'care', 'Government', 'health', 'insurance', 'solution', 'country', 'way', 'health', 'insurance', 'cost', 'health', 'insurance', 'premiums', 'digits', 'example', 'percent', 'year', 'third', 'counties', 'insurer', 'choice', 'choice', 'doctor', 'plan', 'promises', 'choice', 'necessity', 'disaster', 'principles', 'health', 'care', 'system', 'conditions', 'access', 'coverage', 'transition', 'health', 'care', 'exchanges', 'coverage', 'use', 'tax', 'credits', 'health', 'savings', 'accounts', 'plan', 'plan', 'resources', 'flexibility', 'one', 'reforms', 'patients', 'doctors', 'costs', 'price', 'insurance', 'work', 'price', 'drugs', 'time', 'freedom', 'health', 'insurance', 'lines', 'marketplace', 'costs', 'way', 'care', 'country', 'problem', 'family', 'healing', 'hope', 'citizens', 'forces', 'job', 'things', 'good', 'country', 'good', 'people', 'administration', 'members', 'parties', 'childcare', 'parents', 'family', 'women', 'health', 'air', 'water', 'military', 'infrastructure', 'love', 'people', 'ground', 'good', 'behalf', 'child', 'future', 'woman', 'evening', 'inspiration', 'Today', 'gallery', 'disease', 'survivor', 'disease', 'illness', 'months', 'news', 'dad', 'life', 'child', 'company', 'cure', 'drug', 'life', 'Today', 'years', 'sophomore', 'story', 'power', 'father', 'love', 'daughter', 'approval', 'process', 'advances', 'one', 'life', 'need', 'restraints', 'miracles', 'fact', 'children', 'nation', 'miracles', 'future', 'mind', 'souls', 'child', 'Education', 'rights', 'issue', 'time', 'members', 'parties', 'education', 'bill', 'school', 'choice', 'youth', 'millions', 'children', 'families', 'charter', 'magnet', 'home', 'school', 'tonight', 'gallery', 'woman', 'girl', 'school', 'grade', 'center', 'learning', 'learning', 'center', 'help', 'tax', 'credit', 'scholarship', 'program', 'Today', 'family', 'school', 'college', 'year', 'master', 'degree', 'work', 'children', 'cycle', 'poverty', 'cycle', 'poverty', 'cycle', 'violence', 'murder', 'rate', 'year', 'increase', 'century', 'people', 'year', 'murder', 'rate', 'year', 'society', 'child', 'community', 'school', 'access', 'job', 'future', 'men', 'women', 'law', 'enforcement', 'bridges', 'cooperation', 'trust', 'wedge', 'disunity', 'division', 'division', 'Police', 'sheriffs', 'members', 'community', 'friends', 'neighbors', 'mothers', 'fathers', 'sons', 'daughters', 'ones', 'day', 'men', 'women', 'law', 'enforcement', 'victims', 'crime', 'office', 'victims', 'office', 'VOICE', 'Victims', 'voice', 'media', 'interests', 'audience', 'tonight', 'names', 'year', 'son', 'gang', 'member', 'prison', 'man', 'potential', 'college', 'college', 'quarterback', 'chance', 'father', 'audience', 'tonight', 'friend', 'mine', 'husbands', 'line', 'duty', 'pillars', 'community', 'men', 'immigrant', 'record', 'deportations', 'country', 'daughter', 'father', 'hero', 'tonight', 'love', 'country', 'justice', 'ones', 'memory', 'men', 'women', 'military', 'tools', 'war', 'budget', 'military', 'defense', 'sequester', 'increases', 'defense', 'spending', 'history', 'budget', 'funding', 'veterans', 'veterans', 'Nation', 'challenges', 'nation', 'people', 'none', 'uniform', 'tonight', 'widow', 'warrior', 'hero', 'terrorism', 'Nation', 'part', 'raid', 'amounts', 'intelligence', 'victories', 'future', 'enemy', 'legacy', 'eternity', 'record', 'act', 'love', 'one', 'life', 'friends', 'life', 'friends', 'country', 'freedom', 'allies', 'kind', 'friend', 'heroes', 'uniform', 'policy', 'engagement', 'world', 'leadership', 'security', 'interests', 'allies', 'globe', 'alliance', 'bonds', 'world', 'wars', 'fascism', 'war', 'communism', 'partners', 'obligations', 'discussions', 'fact', 'money', 'partners', 'role', 'operations', 'share', 'cost', 'institutions', 'rights', 'nations', 'rights', 'nation', 'nations', 'vehicle', 'will', 'people', 'right', 'nations', 'path', 'job', 'world', 'job', 'conflict', 'mistakes', 'past', 'war', 'destruction', 'world', 'world', 'term', 'solution', 'disasters', 'cases', 'conditions', 'persons', 'process', 'rebuilding', 'friends', 'partnerships', 'interests', 'align', 'harmony', 'stability', 'war', 'conflict', 'peace', 'peace', 'friends', 'today', 'enemies', 'allies', 'decades', 'side', 'wars', 'history', 'faith', 'possibilities', 'world', 'year', 'world', 'anniversary', 'citizens', 'Nation', 'centennial', 'celebration', 'country', 'builders', 'artists', 'inventors', 'creations', 'telephone', 'time', 'typewriter', 'attempt', 'light', 'telegraph', 'pen', 'wonders', 'country', 'year', 'marvels', 'dreams', 'people', 'Cures', 'illnesses', 'footprints', 'worlds', 'dream', 'Millions', 'welfare', 'work', 'streets', 'mothers', 'fear', 'schools', 'children', 'peace', 'jobs', 'vision', 'mission', 'people', 'destiny', 'blood', 'flag', 'vision', 'years', 'freedom', 'tonight', 'chapter', 'greatness', 'time', 'thinking', 'time', 'fights', 'courage', 'dreams', 'hearts', 'bravery', 'hopes', 'souls', 'confidence', 'hopes', 'dreams', 'action', 'aspirations', 'fears', 'future', 'failures', 'past', 'vision', 'doubts', 'citizens', 'renewal', 'spirit', 'Members', 'things', 'country', 'tonight', 'moment', 'yourselves', 'future']\n"
     ]
    }
   ],
   "source": [
    "import spacy\n",
    "\n",
    "file = open(\"../datasets/trump.txt\", \"r\",encoding='utf-8') \n",
    "trump = file.read() \n",
    "\n",
    "\n",
    "nlp = spacy.load(\"en_core_web_sm\")\n",
    "doc = nlp(trump)\n",
    "\n",
    "my_list = list(doc.sents)\n",
    "\n",
    "ans = []\n",
    "\n",
    "for span in my_list:\n",
    "    for i in range(span.start, span.end):\n",
    "        token = doc[i]\n",
    "        if token.pos_ == \"NOUN\":\n",
    "            ans.append(token.text)\n",
    "            \n",
    "print (ans)\n",
    "### here comes your code\n"
   ]
  },
  {
   "cell_type": "markdown",
   "metadata": {},
   "source": [
    "## Exercise 4. Build your own Bag Of Words implementation using tokenizer created before \n",
    "\n",
    "You need to implement following methods:\n",
    "\n",
    "- ``fit_transform`` - gets a list of strings and returns matrix with it's BoW representation\n",
    "- ``get_features_names`` - returns list of words corresponding to columns in BoW"
   ]
  },
  {
   "cell_type": "code",
   "execution_count": 74,
   "metadata": {},
   "outputs": [
    {
     "name": "stdout",
     "output_type": "stream",
     "text": [
      "[[0 1 1 0 0 1 0 1 0 0 1 0 0 0 1 0 0 0 0 0 0 1 0 0 0 0 0 0 0 0 0 0 0]\n",
      " [0 0 0 0 0 0 0 0 0 0 0 0 1 0 0 0 0 1 0 1 0 0 0 0 0 0 0 0 0 1 0 1 0]\n",
      " [0 0 0 0 1 0 0 0 0 0 0 1 0 0 1 0 0 0 0 0 0 0 0 0 0 0 0 1 1 0 0 0 0]\n",
      " [1 0 0 0 0 0 0 0 0 1 0 0 0 0 0 0 1 0 1 0 1 0 1 1 0 1 0 1 0 0 0 1 1]\n",
      " [0 0 0 1 1 0 1 0 1 0 0 0 0 1 0 1 0 0 0 0 0 0 0 0 1 1 1 0 0 0 1 0 0]]\n"
     ]
    },
    {
     "data": {
      "text/plain": [
       "33"
      ]
     },
     "execution_count": 74,
     "metadata": {},
     "output_type": "execute_result"
    }
   ],
   "source": [
    "import numpy as np\n",
    "import spacy\n",
    "\n",
    "class BagOfWords:\n",
    "    \"\"\"Basic BoW implementation.\"\"\"\n",
    "    \n",
    "    __nlp = spacy.load(\"en_core_web_sm\")\n",
    "    __bow_list = []\n",
    "    \n",
    "    # your code goes maybe also here    \n",
    "    \n",
    "    def fit_transform(self, corpus: list):\n",
    "        \"\"\"Transform list of strings into BoW array.\n",
    "\n",
    "        Parameters\n",
    "        ----------\n",
    "        corpus: List[str]\n",
    "                Corpus of texts to be transforrmed\n",
    "\n",
    "        Returns\n",
    "        -------\n",
    "        np.array\n",
    "                Matrix representation of BoW\n",
    "\n",
    "        \"\"\"\n",
    "        d = len(corpus)\n",
    "        dic = {}\n",
    "        for count, doc in enumerate(corpus):\n",
    "            tokens = self.__nlp(doc)\n",
    "            for token in tokens:\n",
    "                if token.is_alpha:\n",
    "                    if token.text not in dic:\n",
    "                        dic[token.text] = [0]*d\n",
    "                    dic[token.text][count] =+ 1\n",
    "                    \n",
    "        \n",
    "        matrix = []\n",
    "        \n",
    "        for i in sorted(dic.items()):\n",
    "            self.__bow_list.append(i[0])\n",
    "            matrix.append(i[1])\n",
    "           \n",
    "        return np.array(matrix).transpose()\n",
    "        # your code goes here        \n",
    "       \n",
    "      \n",
    "\n",
    "    def get_feature_names(self) -> list:\n",
    "        \"\"\"Return words corresponding to columns of matrix.\n",
    "\n",
    "        Returns\n",
    "        -------\n",
    "        List[str]\n",
    "                Words being transformed by fit function\n",
    "\n",
    "        \"\"\"   \n",
    "        # your code goes here\n",
    "        return self.__bow_list\n",
    "\n",
    "corpus = [\n",
    "     'Bag Of Words is based on counting',\n",
    "     'words occurences throughout multiple documents.',\n",
    "     'This is the third document.',\n",
    "     'As you can see most of the words occur only once.',\n",
    "     'This gives us a pretty sparse matrix, see below. Really, see below',\n",
    "]    \n",
    "    \n",
    "vectorizer = BagOfWords()\n",
    "\n",
    "X = vectorizer.fit_transform(corpus)\n",
    "print(X)\n",
    "\n",
    "vectorizer.get_feature_names()\n",
    "len(vectorizer.get_feature_names())"
   ]
  },
  {
   "cell_type": "markdown",
   "metadata": {},
   "source": [
    "## Exercise 5. Build a 5-gram model and clean up the results.\n",
    "\n",
    "There are three tasks to do:\n",
    "1. Use 5-gram model instead of 3.\n",
    "2. Change to capital letter each first letter of a sentence.\n",
    "3. Remove the whitespace between the last word in a sentence and . ! or ?.\n",
    "\n",
    "Hint: for 2. and 3. implement a function called ``clean_generated()`` that takes the generated text and fix both issues at once. It could be easier to fix the text after it's generated rather then doing some changes in the while loop."
   ]
  },
  {
   "cell_type": "code",
   "execution_count": 166,
   "metadata": {},
   "outputs": [],
   "source": [
    "from nltk.book import *\n",
    "\n",
    "wall_street = text7.tokens\n",
    "\n",
    "import re\n",
    "\n",
    "tokens = wall_street\n",
    "\n",
    "def cleanup():\n",
    "    compiled_pattern = re.compile(\"^[a-zA-Z0-9.!?]\")\n",
    "    clean = list(filter(compiled_pattern.match,tokens))\n",
    "    return clean\n",
    "tokens = cleanup()\n",
    "\n",
    "def build_ngrams():\n",
    "    ngrams = []\n",
    "    for i in range(len(tokens)-N+1):\n",
    "        ngrams.append(tokens[i:i+N])\n",
    "    return ngrams\n",
    "\n",
    "def ngram_freqs(ngrams):\n",
    "    counts = {}\n",
    "\n",
    "    for ngram in ngrams:\n",
    "        token_seq  = SEP.join(ngram[:-1])\n",
    "        last_token = ngram[-1]\n",
    "\n",
    "        if token_seq not in counts:\n",
    "            counts[token_seq] = {}\n",
    "\n",
    "        if last_token not in counts[token_seq]:\n",
    "            counts[token_seq][last_token] = 0\n",
    "\n",
    "        counts[token_seq][last_token] += 1;\n",
    "\n",
    "    return counts\n",
    "\n",
    "def next_word(text, N, counts):\n",
    "\n",
    "    token_seq = SEP.join(text.split()[-(N-1):]);\n",
    "    choices = counts[token_seq].items();\n",
    "\n",
    "    total = sum(weight for choice, weight in choices)\n",
    "    r = random.uniform(0, total)\n",
    "    upto = 0\n",
    "    for choice, weight in choices:\n",
    "        upto += weight;\n",
    "        if upto > r: return choice\n",
    "    assert False # should not reach here"
   ]
  },
  {
   "cell_type": "code",
   "execution_count": 172,
   "metadata": {},
   "outputs": [
    {
     "name": "stdout",
     "output_type": "stream",
     "text": [
      "We have to use the aid effectively. The dispute has hampered the stock market gyrations than the futures industry is able to teach much longer. Mrs. Ward. Soon T-shirts appeared in the many appropriations bills now moving through Congress.\n"
     ]
    }
   ],
   "source": [
    "def clean_generated(text):\n",
    "    pattern = \"(?<=[.!?]) +\"\n",
    "    my_list = re.split(pattern, text)\n",
    "    new_text = \"\"\n",
    "    for sen in my_list:\n",
    "        if sen[-2:-1] == \" \":\n",
    "            new_text = new_text + sen[0:-2]+sen[-1]+\" \"\n",
    "        else:\n",
    "            new_text = new_text + sen +\" \"\n",
    "        \n",
    "    return new_text[0].capitalize() + new_text[1:-1]\n",
    "    \n",
    "\n",
    "import random # zapomniał Pan o imporcie :)\n",
    "\n",
    "N=3 # fix it for other value of N\n",
    "\n",
    "# Niestety nie mogłem przetestować dla N=5 ponieważ wykracza to poza IOPub data rate. \n",
    "# Używałem jupytera na zewnętrznym serwerze i nie mam nistety możliwości zrestatować notebooków z nowym data ratem. \n",
    "\n",
    "SEP=\" \"\n",
    "\n",
    "sentence_count=5\n",
    "\n",
    "ngrams = build_ngrams()\n",
    "start_seq=\"We have\"\n",
    "\n",
    "\n",
    "counts = ngram_freqs(ngrams)\n",
    "\n",
    "if start_seq is None: start_seq = random.choice(list(counts.keys()))\n",
    "generated = start_seq.lower();\n",
    "\n",
    "sentences = 0\n",
    "while sentences < sentence_count:\n",
    "    generated += SEP + next_word(generated, N, counts)\n",
    "    sentences += 1 if generated.endswith(('.','!', '?')) else 0\n",
    "\n",
    "# put your code here:\n",
    "\n",
    "print(clean_generated(generated))"
   ]
  },
  {
   "cell_type": "code",
   "execution_count": null,
   "metadata": {},
   "outputs": [],
   "source": []
  }
 ],
 "metadata": {
  "kernelspec": {
   "display_name": "Python 3",
   "language": "python",
   "name": "python3"
  },
  "language_info": {
   "codemirror_mode": {
    "name": "ipython",
    "version": 3
   },
   "file_extension": ".py",
   "mimetype": "text/x-python",
   "name": "python",
   "nbconvert_exporter": "python",
   "pygments_lexer": "ipython3",
   "version": "3.8.5"
  }
 },
 "nbformat": 4,
 "nbformat_minor": 4
}
